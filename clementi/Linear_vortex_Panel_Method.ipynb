{
 "metadata": {
  "name": "",
  "signature": "sha256:f7e3dc09316a32859999aa1a5fbb18a0422b6d75a49275ac14dbd9b93b850b9f"
 },
 "nbformat": 3,
 "nbformat_minor": 0,
 "worksheets": [
  {
   "cells": [
    {
     "cell_type": "raw",
     "metadata": {},
     "source": [
      "Content provided under a Creative Commons Attribution license, CC-BY 4.0; code under MIT license. (c)2015 Natalia C. Clementi\n",
      "\n",
      "Some pieces of code are based on the Aeropython course provided Lorena A. Barba "
     ]
    },
    {
     "cell_type": "markdown",
     "metadata": {},
     "source": [
      "#Linear vortex panel method"
     ]
    },
    {
     "cell_type": "markdown",
     "metadata": {},
     "source": [
      "In the last lessons of _AeroPython_, we have been learning (we hope so!) how to apply panel method to represent a cylinder and different airfoils.\n",
      "\n",
      "We started with a simple source panel method ([Lesson10](http://nbviewer.ipython.org/urls/github.com/barbagroup/AeroPython/blob/master/lessons/10_Lesson10_sourcePanelMethod.ipynb)) but we realized that if we want to generate lift this method was not able to provide it. Do you remember why?...**Source panel method gives as a solution with no circulation** and we need *circulation* so we can have lift. \n",
      "\n",
      "Then, to get a solution with circulation we add, to the constant source panel method, vortices to our panels and that allows us to may have lift force.([Lesson11](http://nbviewer.ipython.org/github/barbagroup/AeroPython/blob/master/lessons/11_Lesson11_vortexSourcePanelMethod.ipynb))\n",
      "\n",
      "There are other ways to generate a solution with circulation. One of them is to use only vortices. However, in this case we need to use linear elements instead of use constant ones, as we were doing in the previous lessons. "
     ]
    },
    {
     "cell_type": "markdown",
     "metadata": {},
     "source": [
      "##What does linear elements mean?"
     ]
    },
    {
     "cell_type": "markdown",
     "metadata": {},
     "source": [
      "So far, we were treating our singularities distribution with constant stregth along the panels. Now we allow the strength to vary linearly.\n",
      "\n",
      "\\begin{equation}\n",
      "     \\gamma(x)= \\gamma_0 + \\gamma_1 (x-x_1)  \n",
      "\\end{equation}\n",
      "\n",
      "where $\\gamma_0$ is constant and $\\gamma_1$ is the slope. Using the principle of superposition we can separate our problem into a constant-strength elements and linear varying varying elements, to finally add this two solutions. \n",
      "\n",
      "\n",
      "<center><img src=\"./resources/linear_el.svg\" width=800><center>\n",
      "\n"
     ]
    },
    {
     "cell_type": "markdown",
     "metadata": {},
     "source": [
      "##Derivation of the linear vortex panel method"
     ]
    },
    {
     "cell_type": "markdown",
     "metadata": {},
     "source": [
      "So now, using the powers of superposition, and remembering that the potential at a location $(x,y)$ in this case is:\n",
      "\n",
      "\\begin{equation}\n",
      "      \\phi(x, y) = \\phi_{\\text{free-stream}}(x, y)+ \\phi_{\\text{vortex-sheet}}(x, y)\n",
      "\\end{equation}"
     ]
    },
    {
     "cell_type": "markdown",
     "metadata": {},
     "source": [
      "Explicitly"
     ]
    },
    {
     "cell_type": "markdown",
     "metadata": {},
     "source": [
      "\\begin{equation}\n",
      "    \\phi(x, y) = xU_{\\infty}\\cos(\\alpha) + yU_{\\infty}\\sin(\\alpha) -\n",
      "    \\frac{1}{2\\pi} \\int_{sheet} \\gamma(s)\\tan^{-1} \\frac{y-\\eta(s)}{x-\\xi(s)}ds\n",
      "\\end{equation}"
     ]
    },
    {
     "cell_type": "markdown",
     "metadata": {},
     "source": [
      "If we discretize into $N$ panels, as we were doing in the preious lessons. Then we can write the potential at a point $(x,y)$ as:\n",
      "\n",
      "\\begin{equation}\n",
      "    \\phi\\left(x,y\\right) = xU_\\infty \\cos \\alpha + yU_\\infty  \\sin \\alpha - \\sum_{j=1}^N \\frac{1}{2\\pi} \\int_j \\gamma_j (s) \\tan^{-1} \\left(\\frac{y-\\eta_j(s)}{x-\\xi_j(s)}\\right) {\\rm d}s_j\n",
      "\\end{equation}"
     ]
    },
    {
     "cell_type": "markdown",
     "metadata": {},
     "source": [
      "where:\n",
      "\n",
      "\\begin{equation}\n",
      "\\left\\{\n",
      "\\begin{array}{l}\n",
      "\\xi_j(s)=x_j-s\\sin\\beta_j \\\\\n",
      "\\eta_j(s)=y_j+s\\cos\\beta_j\n",
      "\\end{array}\n",
      ",\\ \\ \\ \n",
      "0\\le s \\le l_j\n",
      "\\right.\n",
      "\\end{equation}\n",
      "\n",
      "and $\\gamma_j (s)$ can be written as:\n",
      "\\begin{equation}\n",
      "    \\gamma_j (s) = \\gamma_j + \\left(\\frac{\\gamma_{j+1}-\\gamma_j}{l_j}  \\right)\\; s\n",
      "\\end{equation}\n",
      "\n",
      "with $l_j$ the length of the panel $j$ and $\\beta_j$ is the angle between the panel's normal and the $x$-axis. "
     ]
    },
    {
     "cell_type": "markdown",
     "metadata": {},
     "source": [
      "Then, replacing what we know for $\\gamma_j (s)$ we can write the potential as:\n",
      "\n",
      "\\begin{equation}\n",
      "    \\phi\\left(x,y\\right) = xU_\\infty \\cos \\alpha + yU_\\infty  \\sin \\alpha - \\sum_{j=1}^N \\frac{\\gamma_j}{2\\pi} \\int_j  \\tan^{-1} \\left(\\frac{y-\\eta_j(s)}{x-\\xi_j(s)}\\right) {\\rm d}s_j \\\\ \n",
      "    -\\sum_{j=1}^N \\frac{1}{2\\pi} \\left(\\frac{\\gamma_{j+1}-\\gamma_j}{l_j}  \\right) \\int_j  s\\; \\tan^{-1} \\left(\\frac{y-\\eta_j(s)}{x-\\xi_j(s)}\\right) {\\rm d}s_j\n",
      "\\end{equation}\n"
     ]
    },
    {
     "cell_type": "markdown",
     "metadata": {},
     "source": [
      "The first three terms of the potential should be familiar, we already fight with the math that those terms involve in the previous lessons. "
     ]
    },
    {
     "cell_type": "markdown",
     "metadata": {},
     "source": [
      "##Normal and tangential velocity\n",
      "\n",
      "We know that we can write the normal and tangential components of the velocity using:\n",
      "\n",
      "\\begin{equation}\n",
      "    \\left\\{\n",
      "    \\begin{array}{l}\n",
      "    U_{\\text{n}}(x, y)=\\frac{\\partial \\phi}{\\partial x}(x, y) \\,n_x+\\frac{\\partial \\phi}{\\partial y}(x, y) \\,n_y \\\\\n",
      "    U_{\\text{t}}(x, y)=\\frac{\\partial \\phi}{\\partial x}(x, y) \\,t_x+\\frac{\\partial \\phi}{\\partial y}(x, y) \\,t_y\n",
      "    \\end{array}\n",
      "    \\right.\n",
      "\\end{equation}\n",
      "\n",
      "where $n_x=\\cos (\\beta_i)$ , $n_y=\\sin (\\beta_i)$ , $t_x=-\\sin (\\beta_i)$  and $t_y=\\cos (\\beta_i)$. Then in order to get the different components of the velocity we need to take some derivatives. We know that you don't like to do a lot of math, but if you completed the exercise of lesson 11 ([11_Lesson11_Exercise](http://nbviewer.ipython.org/github/barbagroup/AeroPython/blob/master/lessons/11_Lesson11_Exercise.ipynb)) then you have all the derivatives done!!! "
     ]
    },
    {
     "cell_type": "markdown",
     "metadata": {},
     "source": [
      "Then, the components of the gradient should look like this:\n",
      "\n",
      "\\begin{align}\n",
      "    \\frac{\\partial \\phi}{\\partial x}(x,y) &= U_\\infty \\cos \\alpha \\\\\n",
      "    &+ \\frac{1}{{2\\pi}} \\sum_{j=1}^N \\gamma_j \\int_j \\frac{(y-\\eta_j(s))}{(x-\\xi_j(s))^2 + (y-\\eta_j(s))^2} {\\rm d}s_j \\\\ \n",
      "    &+ \\frac{1}{2\\pi}\\sum_{j=1}^N  \\left(\\frac{\\gamma_{j+1}-\\gamma_j}{l_j}  \\right) \\int_j  \\frac{s\\;(y-\\eta_j(s))}{(x-\\xi_j(s))^2 + (y-\\eta_j(s))^2} {\\rm d}s_j\n",
      "\\end{align}\n",
      "\n",
      "\\begin{align}\n",
      "    \\frac{\\partial \\phi}{\\partial y}(x,y) &= U_\\infty \\sin \\alpha \\\\\n",
      "    &- \\frac{1}{{2\\pi}} \\sum_{j=1}^N \\gamma_j \\int_j \\frac{(x-\\xi_j(s))}{(x-\\xi_j(s))^2 + (y-\\eta_j(s))^2} {\\rm d}s_j \\\\ \n",
      "    &- \\frac{1}{2\\pi}\\sum_{j=1}^N  \\left(\\frac{\\gamma_{j+1}-\\gamma_j}{l_j}  \\right) \\int_j  \\frac{s\\;(x-\\xi_j(s))}{(x-\\xi_j(s))^2 + (y-\\eta_j(s))^2} {\\rm d}s_j\n",
      "\\end{align}\n",
      "\n"
     ]
    },
    {
     "cell_type": "markdown",
     "metadata": {},
     "source": [
      "Then, rearranging some terms we can write $U_{\\text{n}}(x, y)$ and $U_{\\text{t}}(x, y)$ as:\n",
      "\n",
      "\\begin{align}\n",
      "    U_{\\text{n}}(x, y) & = U_\\infty \\cos(\\alpha - \\beta_i) \\\\\n",
      "    &+\\frac{1}{{2\\pi}}\\sum_{j=1}^N \\gamma_j \\left[ \\int_j f_j(s) {\\rm d}s \\cos(\\beta_i) - \\int_j g_j(s) {\\rm d}s \\sin(\\beta_i) \\right] \\\\\n",
      "    &-\\frac{1}{{2\\pi}}\\sum_{j=1}^N \\frac{\\gamma_j}{l_j} \\left[ \\int_j s\\,f_j(s) {\\rm d}s \\cos(\\beta_i) - \\int_j s\\,g_j(s) {\\rm d}s \\sin(\\beta_i) \\right] \\\\\n",
      "    &+ \\frac{1}{{2\\pi}}\\sum_{j=1}^N \\frac{\\gamma_{j+1}}{l_j} \\left[ \\int_j s\\,f_j(s) {\\rm d}s \\cos(\\beta_i) - \\int_j s\\,g_j(s) {\\rm d}s \\sin(\\beta_i) \\right]    \n",
      "\\end{align}\n",
      "\n",
      "\\begin{align}\n",
      "    U_{\\text{t}}(x, y) & = U_\\infty \\sin(\\alpha - \\beta_i) \\\\\n",
      "    &+\\frac{1}{{2\\pi}}\\sum_{j=1}^N \\gamma_j \\left[ \\int_j f_j(s) {\\rm d}s (-\\sin(\\beta_i)) - \\int_j g_j(s) {\\rm d}s (\\cos(\\beta_i)) \\right] \\\\\n",
      "    &-\\frac{1}{{2\\pi}}\\sum_{j=1}^N \\frac{\\gamma_j}{l_j} \\left[ \\int_j s\\,f_j(s) {\\rm d}s (-\\sin(\\beta_i)) - \\int_j s\\,g_j(s) {\\rm d}s (\\cos(\\beta_i)) \\right] \\\\\n",
      "    &+ \\frac{1}{{2\\pi}}\\sum_{j=1}^N \\frac{\\gamma_{j+1}}{l_j} \\left[ \\int_j s\\,f_j(s) {\\rm d}s (-\\sin(\\beta_i)) - \\int_j s\\,g_j(s) {\\rm d}s (\\cos(\\beta_i)) \\right]    \n",
      "\\end{align}"
     ]
    },
    {
     "cell_type": "markdown",
     "metadata": {},
     "source": [
      "where $f_j(s)$ and $g_j(s)$ are:\n",
      "\n",
      "\\begin{equation}\n",
      "    f_j(s) = \\frac{(y-\\eta_j(s))}{(x-\\xi_j(s))^2 + (y-\\eta_j(s))^2}\n",
      "\\end{equation}\n",
      "\n",
      "\\begin{equation}\n",
      "    g_j(s) = \\frac{(x-\\xi_j(s))}{(x-\\xi_j(s))^2 + (y-\\eta_j(s))^2}\n",
      "\\end{equation}"
     ]
    },
    {
     "cell_type": "markdown",
     "metadata": {},
     "source": [
      "Now we have all the expressions that we need to solve our problem, so let's start coding!!!"
     ]
    },
    {
     "cell_type": "markdown",
     "metadata": {},
     "source": [
      "##Discretization into panels"
     ]
    },
    {
     "cell_type": "code",
     "collapsed": false,
     "input": [
      "#Importing the libraries and modules we need.\n",
      "import numpy\n",
      "from scipy import integrate, linalg\n",
      "from matplotlib import pyplot\n",
      "#The next line allows as to plot directly in the notebook.\n",
      "%matplotlib inline"
     ],
     "language": "python",
     "metadata": {},
     "outputs": [],
     "prompt_number": 1
    },
    {
     "cell_type": "markdown",
     "metadata": {},
     "source": [
      "We are going to work with the airfoil _NACA0012_, so we are going to load the same data that we were using in previous lessons. We will use the cosine method to get the `x_ends` and we are going to generate the `y_ends` using the [equation for a symmetrical 4-digit _NACA_ airfoil](http://en.wikipedia.org/wiki/NACA_airfoil) with the correction for zero-thickness trailing edge. We need this because now the strength singularities are going to be at the beginning and end of each panel."
     ]
    },
    {
     "cell_type": "code",
     "collapsed": false,
     "input": [
      "#Loading the geometry from a data file\n",
      "\n",
      "x, y = numpy.loadtxt('./resources/naca0012.dat', dtype=float, delimiter='\\t', unpack=True)\n"
     ],
     "language": "python",
     "metadata": {},
     "outputs": [],
     "prompt_number": 2
    },
    {
     "cell_type": "markdown",
     "metadata": {},
     "source": [
      "The `Panel` class is going to be similar to the one that we were using in the previous lessons. "
     ]
    },
    {
     "cell_type": "code",
     "collapsed": false,
     "input": [
      "class Panel:\n",
      "    \"\"\"Contains information related to a panel.\"\"\"\n",
      "    def __init__(self, xa, ya, xb, yb):\n",
      "        \"\"\"Creates a panel.\n",
      "        \n",
      "        Arguments\n",
      "        ---------\n",
      "        xa, ya: Cartesian coordinates of the first end-point.\n",
      "        xb, yb: Cartesian coordinates of the second end-point.\n",
      "        \"\"\"\n",
      "        self.xa, self.ya = xa, ya\n",
      "        self.xb, self.yb = xb, yb\n",
      "        \n",
      "        self.xc, self.yc = (xa+xb)/2, (ya+yb)/2            # control-point (center-point)\n",
      "        self.length = numpy.sqrt((xb-xa)**2+(yb-ya)**2)     # length of the panel\n",
      "        \n",
      "        # orientation of the panel (angle between x-axis and panel's normal)\n",
      "        if xb-xa <= 0.:\n",
      "            self.beta = numpy.arccos((yb-ya)/self.length)\n",
      "        elif xb-xa > 0.:\n",
      "            self.beta = numpy.pi + numpy.arccos(-(yb-ya)/self.length)\n",
      "        \n",
      "        # location of the panel\n",
      "        if self.beta <= numpy.pi:\n",
      "            self.loc = 'upper face'                   #upper face\n",
      "        else:\n",
      "            self.loc = 'lower face'                   #lower face\n",
      "        \n",
      "        self.vt = 0.                                # tangential velocity\n",
      "        self.cp = 0.                                # pressure coefficient"
     ],
     "language": "python",
     "metadata": {},
     "outputs": [],
     "prompt_number": 3
    },
    {
     "cell_type": "code",
     "collapsed": false,
     "input": [
      "def define_panels(x ,y ,N):\n",
      "    \"\"\"Discretizes the geometry into panels using 'cosine' method.\n",
      "    \n",
      "    Arguments\n",
      "    ---------\n",
      "    x, y : Cartesian coordinates of the geometry (1d arrays).\n",
      "    N: number of panels (40 by default)\n",
      "    \n",
      "    Returns\n",
      "    -------\n",
      "    panels: Numpy array of panels\n",
      "    \"\"\"\n",
      "    \n",
      "    R = (x.max()-x.min())/2.                            #radius of the circle\n",
      "    x_center = (x.max()+x.min())/2.                     #x_coord of the center of the circle\n",
      "    \n",
      "    theta = numpy.linspace(0, 2*numpy.pi, N+1)          #array of angles\n",
      "    x_circle = x_center +  R*numpy.cos(theta)           #x_coord of the circle\n",
      "    \n",
      "    x_ends = numpy.copy(x_circle)                       #x_ends of the geometry panels (idem circle)\n",
      "    y_ends = numpy.empty_like(x_ends)                   #initializing the y_ends array\n",
      "    y_t = numpy.empty_like(x_ends)                      #half thickness at a given value of x (centerline to surface)\n",
      "    \n",
      "   \n",
      "    t=0.12                                              #the maximum thickness as a fraction of the chord \n",
      "                                                        #(so 100 t gives the last two digits in the NACA 4-digit denomination).\n",
      "    c=1.                                                #coord length\n",
      "    \n",
      "    y_t = 5.*t*c*(0.2969*numpy.sqrt(x_ends/c) + (-0.1260)*(x_ends/c)+\\\n",
      "                    (-0.3516)*(x_ends/c)**2 + (0.2843)*(x_ends/c)**3 +\\\n",
      "                    (-0.1036)*(x_ends/c)**4)\n",
      "    \n",
      "    # computes the y_end\n",
      "    y_ends[0:N/2] = y_t[0:N/2]\n",
      "    y_ends[N/2:N] = -y_t[N/2:N]\n",
      "    \n",
      "    \n",
      "    panels = numpy.empty(N, dtype=object)\n",
      "    for i in range(N):\n",
      "        panels[i] = Panel(x_ends[i], y_ends[i], x_ends[i+1], y_ends[i+1])\n",
      "    \n",
      "    return panels    "
     ],
     "language": "python",
     "metadata": {},
     "outputs": [],
     "prompt_number": 4
    },
    {
     "cell_type": "code",
     "collapsed": false,
     "input": [
      "##Create the panels\n",
      "N = 40                            # number of panels\n",
      "panels = define_panels(x, y, N)   # discretizes of the geometry into panels"
     ],
     "language": "python",
     "metadata": {},
     "outputs": [],
     "prompt_number": 13
    },
    {
     "cell_type": "code",
     "collapsed": false,
     "input": [
      "#Plotting the geometry\n",
      "\n",
      "#First we'll set some parameters to have a nice plot\n",
      "val_x, val_y = 0.1, 0.2              \n",
      "\n",
      "xp_min, xp_max = min(panel.xa for panel in panels) , max(panel.xa for panel in panels)    \n",
      "yp_min, yp_max = min(panel.ya for panel in panels) , max(panel.ya for panel in panels)    \n",
      "\n",
      "#limits of the plot\n",
      "xp_start, xp_end = xp_min-val_x*(xp_max-xp_min), xp_max+val_x*(xp_max-xp_min)\n",
      "yp_start, yp_end = yp_min-val_y*(yp_max-yp_min), yp_max+val_y*(yp_max-yp_min)\n",
      "\n",
      "#Plot\n",
      "size = 10\n",
      "pyplot.figure(figsize=(size, (yp_end-yp_start)/(xp_end-xp_start)*size))\n",
      "pyplot.grid(True)\n",
      "pyplot.xlabel('x', fontsize=15)\n",
      "pyplot.ylabel('y', fontsize=15)\n",
      "pyplot.xlim(xp_start, xp_end)\n",
      "pyplot.ylim(yp_start, yp_end)\n",
      "\n",
      "pyplot.plot(x, y, color='deeppink', linestyle='-', linewidth=2);\n",
      "\n",
      "pyplot.plot(numpy.append([panel.xa for panel in panels], panels[0].xa), \n",
      "         numpy.append([panel.ya for panel in panels], panels[0].ya), \n",
      "         linestyle='-', linewidth=1, marker='o', markersize=6, color='#483D8B');"
     ],
     "language": "python",
     "metadata": {},
     "outputs": [
      {
       "metadata": {},
       "output_type": "display_data",
       "png": "[encoded data removed]",
       "text": [
        "<matplotlib.figure.Figure at 0x7fc36166b2d0>"
       ]
      }
     ],
     "prompt_number": 14
    },
    {
     "cell_type": "markdown",
     "metadata": {},
     "source": [
      "##Free stream conditions\n",
      "\n",
      "The airfoil is immersed in a free-stream ($U_\\infty$,$\\alpha$) where $U_\\infty$ and $\\alpha$ are the velocity magnitude and angle of attack, respectively."
     ]
    },
    {
     "cell_type": "code",
     "collapsed": false,
     "input": [
      "class Freestream:\n",
      "    \"\"\"Freestream conditions.\"\"\"\n",
      "    def __init__(self, U_inf=1.0, alpha=0.0):\n",
      "        \"\"\"Sets the freestream conditions.\n",
      "        \n",
      "        Arguments\n",
      "        ---------\n",
      "        U_inf: Farfield speed (default 1.0).\n",
      "        alpha: Angle of attack in degrees (default 0.0).\n",
      "        \"\"\"\n",
      "        self.U_inf = U_inf\n",
      "        self.alpha = alpha*numpy.pi/180          # degrees to radians"
     ],
     "language": "python",
     "metadata": {},
     "outputs": [],
     "prompt_number": 15
    },
    {
     "cell_type": "code",
     "collapsed": false,
     "input": [
      "# defines and creates the object freestream\n",
      "U_inf = 1.0                                # freestream speed\n",
      "alpha = 0.0                                # angle of attack (in degrees)\n",
      "freestream = Freestream(U_inf, alpha)      # instantiation of the object freestream"
     ],
     "language": "python",
     "metadata": {},
     "outputs": [],
     "prompt_number": 16
    },
    {
     "cell_type": "code",
     "collapsed": false,
     "input": [],
     "language": "python",
     "metadata": {},
     "outputs": []
    }
   ],
   "metadata": {}
  }
 ]
}