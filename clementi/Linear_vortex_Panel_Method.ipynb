{
 "metadata": {
  "name": "",
  "signature": "sha256:38d540e7c4bd7a6fb8eb65ab4e0a69c7b9564eed3d5e60b99776224bfecacbb1"
 },
 "nbformat": 3,
 "nbformat_minor": 0,
 "worksheets": [
  {
   "cells": [
    {
     "cell_type": "raw",
     "metadata": {},
     "source": [
      "Content provided under a Creative Commons Attribution license, CC-BY 4.0; code under MIT license. (c)2015 Natalia C. Clementi\n",
      "\n",
      "Some pieces of code are based on the Aeropython course provided Lorena A. Barba "
     ]
    },
    {
     "cell_type": "markdown",
     "metadata": {},
     "source": [
      "#Linear vortex panel method"
     ]
    },
    {
     "cell_type": "markdown",
     "metadata": {},
     "source": [
      "In the last lessons of _AeroPython_, we have been learning (we hope so!) how to apply panel method to represent a cylinder and different airfoils.\n",
      "\n",
      "We started with a simple source panel method ([Lesson10](http://nbviewer.ipython.org/urls/github.com/barbagroup/AeroPython/blob/master/lessons/10_Lesson10_sourcePanelMethod.ipynb)) but we realized that if we want to generate lift this method was not able to provide it. Do you remember why?...**Source panel method gives as a solution with no circulation** and we need *circulation* so we can have lift. \n",
      "\n",
      "Then, to get a solution with circulation we add, to the constant source panel method, vortices to our panels and that allows us to may have lift force.([Lesson11](http://nbviewer.ipython.org/github/barbagroup/AeroPython/blob/master/lessons/11_Lesson11_vortexSourcePanelMethod.ipynb))\n",
      "\n",
      "There are other ways to generate a solution with circulation. One of them is to use only vortices. However, in this case we need to use linear elements instead of use constant ones, as we were doing in the previous lessons. "
     ]
    },
    {
     "cell_type": "markdown",
     "metadata": {},
     "source": [
      "##What does linear elements mean?"
     ]
    },
    {
     "cell_type": "markdown",
     "metadata": {},
     "source": [
      "So far, we were treating our singularities distribution with constant stregth along the panels. Now we allow the strength to vary linearly.\n",
      "\n",
      "\\begin{equation}\n",
      "     \\gamma(x)= \\gamma_0 + \\gamma_1 (x-x_1)  \n",
      "\\end{equation}\n",
      "\n",
      "where $\\gamma_0$ is constant and $\\gamma_1$ is the slope. Using the principle of superposition we can separate our problem into a constant-strength elements and linear varying varying elements, to finally add this two solutions. \n",
      "\n",
      "\n",
      "<center><img src=\"./resources/linear_el.svg\" width=800><center>\n",
      "\n"
     ]
    },
    {
     "cell_type": "markdown",
     "metadata": {},
     "source": [
      "##Derivation of the linear vortex panel method"
     ]
    },
    {
     "cell_type": "markdown",
     "metadata": {},
     "source": [
      "So now, using the powers of superposition, and remembering that the potential at a location $(x,y)$ in this case is:\n",
      "\n",
      "\\begin{equation}\n",
      "      \\phi(x, y) = \\phi_{\\text{free-stream}}(x, y)+ \\phi_{\\text{vortex-sheet}}(x, y)\n",
      "\\end{equation}"
     ]
    },
    {
     "cell_type": "markdown",
     "metadata": {},
     "source": [
      "Explicitly"
     ]
    },
    {
     "cell_type": "markdown",
     "metadata": {},
     "source": [
      "\\begin{equation}\n",
      "    \\phi(x, y) = xU_{\\infty}\\cos(\\alpha) + yU_{\\infty}\\sin(\\alpha) -\n",
      "    \\frac{1}{2\\pi} \\int_{sheet} \\gamma(s)\\tan^{-1} \\frac{y-\\eta(s)}{x-\\xi(s)}ds\n",
      "\\end{equation}"
     ]
    },
    {
     "cell_type": "markdown",
     "metadata": {},
     "source": [
      "If we discretize into $N$ panels, as we were doing in the preious lessons. Then we can write the potential at a point $(x,y)$ as:\n",
      "\n",
      "\\begin{equation}\n",
      "    \\phi\\left(x,y\\right) = xU_\\infty \\cos \\alpha + yU_\\infty  \\sin \\alpha - \\sum_{j=1}^N \\frac{1}{2\\pi} \\int_j \\gamma_j (s) \\tan^{-1} \\left(\\frac{y-\\eta_j(s)}{x-\\xi_j(s)}\\right) {\\rm d}s_j\n",
      "\\end{equation}"
     ]
    },
    {
     "cell_type": "markdown",
     "metadata": {},
     "source": [
      "where:\n",
      "\n",
      "\\begin{equation}\n",
      "\\left\\{\n",
      "\\begin{array}{l}\n",
      "\\xi_j(s)=x_j-s\\sin\\beta_j \\\\\n",
      "\\eta_j(s)=y_j+s\\cos\\beta_j\n",
      "\\end{array}\n",
      ",\\ \\ \\ \n",
      "0\\le s \\le l_j\n",
      "\\right.\n",
      "\\end{equation}\n",
      "\n",
      "and $\\gamma_j (s)$ can be written as:\n",
      "\\begin{equation}\n",
      "    \\gamma_j (s) = \\gamma_j + \\left(\\frac{\\gamma_{j+1}-\\gamma_j}{l_j}  \\right)\\; s\n",
      "\\end{equation}\n",
      "\n",
      "with $l_j$ the length of the panel $j$ and $\\beta_j$ is the angle between the panel's normal and the $x$-axis. "
     ]
    },
    {
     "cell_type": "markdown",
     "metadata": {},
     "source": [
      "Then, replacing what we know for $\\gamma_j (s)$ we can write the potential as:\n",
      "\n",
      "\\begin{equation}\n",
      "    \\phi\\left(x,y\\right) = xU_\\infty \\cos \\alpha + yU_\\infty  \\sin \\alpha - \\sum_{j=1}^N \\frac{\\gamma_j}{2\\pi} \\int_j  \\tan^{-1} \\left(\\frac{y-\\eta_j(s)}{x-\\xi_j(s)}\\right) {\\rm d}s_j \\\\ \n",
      "    -\\sum_{j=1}^N \\frac{1}{2\\pi} \\left(\\frac{\\gamma_{j+1}-\\gamma_j}{l_j}  \\right) \\int_j  s\\; \\tan^{-1} \\left(\\frac{y-\\eta_j(s)}{x-\\xi_j(s)}\\right) {\\rm d}s_j\n",
      "\\end{equation}\n"
     ]
    },
    {
     "cell_type": "markdown",
     "metadata": {},
     "source": [
      "The first three terms of the potential should be familiar, we already fight with the math that those terms involve in the previous lessons. "
     ]
    },
    {
     "cell_type": "markdown",
     "metadata": {},
     "source": [
      "##Normal and tangential velocity\n",
      "\n",
      "We know that we can write the normal and tangential components of the velocity using:\n",
      "\n",
      "\\begin{equation}\n",
      "    \\left\\{\n",
      "    \\begin{array}{l}\n",
      "    U_{\\text{n}}(x, y)=\\frac{\\partial \\phi}{\\partial x}(x, y) \\,n_x+\\frac{\\partial \\phi}{\\partial y}(x, y) \\,n_y \\\\\n",
      "    U_{\\text{t}}(x, y)=\\frac{\\partial \\phi}{\\partial x}(x, y) \\,t_x+\\frac{\\partial \\phi}{\\partial y}(x, y) \\,t_y\n",
      "    \\end{array}\n",
      "    \\right.\n",
      "\\end{equation}\n",
      "\n",
      "where $n_x=\\cos (\\beta_i)$ , $n_y=\\sin (\\beta_i)$ , $t_x=-\\sin (\\beta_i)$  and $t_y=\\cos (\\beta_i)$. Then in order to get the different components of the velocity we need to take some derivatives. We know that you don't like to do a lot of math, but if you completed the exercise of lesson 11 ([11_Lesson11_Exercise](http://nbviewer.ipython.org/github/barbagroup/AeroPython/blob/master/lessons/11_Lesson11_Exercise.ipynb)) then you have all the derivatives done!!! "
     ]
    },
    {
     "cell_type": "markdown",
     "metadata": {},
     "source": [
      "Then, the components of the gradient should look like this:\n",
      "\n",
      "\\begin{align}\n",
      "    \\frac{\\partial \\phi}{\\partial x}(x,y) &= U_\\infty \\cos \\alpha \\\\\n",
      "    &+ \\frac{1}{{2\\pi}} \\sum_{j=1}^N \\gamma_j \\int_j \\frac{(y-\\eta_j(s))}{(x-\\xi_j(s))^2 + (y-\\eta_j(s))^2} {\\rm d}s_j \\\\ \n",
      "    &+ \\frac{1}{2\\pi}\\sum_{j=1}^N  \\left(\\frac{\\gamma_{j+1}-\\gamma_j}{l_j}  \\right) \\int_j  \\frac{s\\;(y-\\eta_j(s))}{(x-\\xi_j(s))^2 + (y-\\eta_j(s))^2} {\\rm d}s_j\n",
      "\\end{align}\n",
      "\n",
      "\\begin{align}\n",
      "    \\frac{\\partial \\phi}{\\partial y}(x,y) &= U_\\infty \\sin \\alpha \\\\\n",
      "    &- \\frac{1}{{2\\pi}} \\sum_{j=1}^N \\gamma_j \\int_j \\frac{(x-\\xi_j(s))}{(x-\\xi_j(s))^2 + (y-\\eta_j(s))^2} {\\rm d}s_j \\\\ \n",
      "    &- \\frac{1}{2\\pi}\\sum_{j=1}^N  \\left(\\frac{\\gamma_{j+1}-\\gamma_j}{l_j}  \\right) \\int_j  \\frac{s\\;(x-\\xi_j(s))}{(x-\\xi_j(s))^2 + (y-\\eta_j(s))^2} {\\rm d}s_j\n",
      "\\end{align}\n",
      "\n"
     ]
    },
    {
     "cell_type": "markdown",
     "metadata": {},
     "source": [
      "Then, rearranging some terms we can write $U_{\\text{n}}(x, y)$ and $U_{\\text{t}}(x, y)$ as:\n",
      "\n",
      "\\begin{align}\n",
      "    U_{\\text{n}}(x, y) & = U_\\infty \\cos(\\alpha - \\beta_i) \\\\\n",
      "    &+\\frac{1}{{2\\pi}}\\sum_{j=1}^N \\gamma_j \\left[ \\int_j f_j(s) {\\rm d}s \\cos(\\beta_i) - \\int_j g_j(s) {\\rm d}s \\sin(\\beta_i) \\right] \\\\\n",
      "    &-\\frac{1}{{2\\pi}}\\sum_{j=1}^N \\frac{\\gamma_j}{l_j} \\left[ \\int_j s\\,f_j(s) {\\rm d}s \\cos(\\beta_i) - \\int_j s\\,g_j(s) {\\rm d}s \\sin(\\beta_i) \\right] \\\\\n",
      "    &+ \\frac{1}{{2\\pi}}\\sum_{j=1}^N \\frac{\\gamma_{j+1}}{l_j} \\left[ \\int_j s\\,f_j(s) {\\rm d}s \\cos(\\beta_i) - \\int_j s\\,g_j(s) {\\rm d}s \\sin(\\beta_i) \\right]    \n",
      "\\end{align}\n",
      "\n",
      "\\begin{align}\n",
      "    U_{\\text{t}}(x, y) & = U_\\infty \\sin(\\alpha - \\beta_i) \\\\\n",
      "    &+\\frac{1}{{2\\pi}}\\sum_{j=1}^N \\gamma_j \\left[ \\int_j f_j(s) {\\rm d}s (-\\sin(\\beta_i)) - \\int_j g_j(s) {\\rm d}s (\\cos(\\beta_i)) \\right] \\\\\n",
      "    &-\\frac{1}{{2\\pi}}\\sum_{j=1}^N \\frac{\\gamma_j}{l_j} \\left[ \\int_j s\\,f_j(s) {\\rm d}s (-\\sin(\\beta_i)) - \\int_j s\\,g_j(s) {\\rm d}s (\\cos(\\beta_i)) \\right] \\\\\n",
      "    &+ \\frac{1}{{2\\pi}}\\sum_{j=1}^N \\frac{\\gamma_{j+1}}{l_j} \\left[ \\int_j s\\,f_j(s) {\\rm d}s (-\\sin(\\beta_i)) - \\int_j s\\,g_j(s) {\\rm d}s (\\cos(\\beta_i)) \\right]    \n",
      "\\end{align}"
     ]
    },
    {
     "cell_type": "markdown",
     "metadata": {},
     "source": [
      "where $f_j(s)$ and $g_j(s)$ are:\n",
      "\n",
      "\\begin{equation}\n",
      "    f_j(s) = \\frac{(y-\\eta_j(s))}{(x-\\xi_j(s))^2 + (y-\\eta_j(s))^2}\n",
      "\\end{equation}\n",
      "\n",
      "\\begin{equation}\n",
      "    g_j(s) = \\frac{(x-\\xi_j(s))}{(x-\\xi_j(s))^2 + (y-\\eta_j(s))^2}\n",
      "\\end{equation}"
     ]
    },
    {
     "cell_type": "markdown",
     "metadata": {},
     "source": [
      "Now we have all the expressions that we need to solve our problem, so let's start coding!!!"
     ]
    },
    {
     "cell_type": "markdown",
     "metadata": {},
     "source": [
      "##Discretization into panels"
     ]
    }
   ],
   "metadata": {}
  }
 ]
}