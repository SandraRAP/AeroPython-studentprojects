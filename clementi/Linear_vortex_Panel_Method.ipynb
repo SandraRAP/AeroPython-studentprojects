{
 "metadata": {
  "name": "",
  "signature": "sha256:0f9d5fc56ace7b95d542a47f14a3414137e15233d5c9fb9b74bb33b56cb0eb2b"
 },
 "nbformat": 3,
 "nbformat_minor": 0,
 "worksheets": [
  {
   "cells": [
    {
     "cell_type": "raw",
     "metadata": {},
     "source": [
      "Content provided under a Creative Commons Attribution license, CC-BY 4.0; code under MIT license. (c)2015 Natalia C. Clementi\n",
      "\n",
      "Some pieces of code are based on the Aeropython course provided Lorena A. Barba "
     ]
    },
    {
     "cell_type": "markdown",
     "metadata": {},
     "source": [
      "#Linear vortex panel method"
     ]
    },
    {
     "cell_type": "markdown",
     "metadata": {},
     "source": [
      "In the last lessons of _AeroPython_, we have been learning (we hope so!) how to apply panel method to represent a cylinder and different airfoils.\n",
      "\n",
      "We started with a simple source panel method ([Lesson10](http://nbviewer.ipython.org/urls/github.com/barbagroup/AeroPython/blob/master/lessons/10_Lesson10_sourcePanelMethod.ipynb)) but we realized that if we want to generate lift this method was not able to provide it. Do you remember why?...**Source panel method gives as a solution with no circulation** and we need *circulation* so we can have lift. \n",
      "\n",
      "Then, to get a solution with circulation we add, to the constant source panel method, vortices to our panels and that allows us to may have lift force.([Lesson11](http://nbviewer.ipython.org/github/barbagroup/AeroPython/blob/master/lessons/11_Lesson11_vortexSourcePanelMethod.ipynb))\n",
      "\n",
      "There are other ways to generate a solution with circulation. One of them is to use only vortices. However, in this case we need to use linear elements instead of use constant ones, as we were doing in the previous lessons. "
     ]
    },
    {
     "cell_type": "markdown",
     "metadata": {},
     "source": [
      "##What does linear elements mean?"
     ]
    },
    {
     "cell_type": "markdown",
     "metadata": {},
     "source": [
      "So far, we were treating our singularities distribution with constant stregth along the panels. Now we allow the strength to vary linearly.\n",
      "\n",
      "\\begin{equation}\n",
      "     \\gamma(x)= \\gamma_0 + \\gamma_1 (x-x_1)  \n",
      "\\end{equation}\n",
      "\n",
      "where $\\gamma_0$ is constant and $\\gamma_1$ is the slope. Using the principle of superposition we can separate our problem into a constant-strength elements and linear varying varying elements, to finally add this two solutions. \n",
      "\n",
      "\n",
      "<center><img src=\"./resources/linear_el.svg\" width=800><center>\n",
      "\n"
     ]
    },
    {
     "cell_type": "markdown",
     "metadata": {},
     "source": [
      "##Derivation of the linear vortex panel method"
     ]
    },
    {
     "cell_type": "markdown",
     "metadata": {},
     "source": [
      "So now, using the powers of superposition, and remembering that the potential at a location $(x,y)$ in this case is:\n",
      "\n",
      "\\begin{equation}\n",
      "      \\phi(x, y) = \\phi_{\\text{free-stream}}(x, y)+ \\phi_{\\text{vortex-sheet}}(x, y)\n",
      "\\end{equation}"
     ]
    },
    {
     "cell_type": "markdown",
     "metadata": {},
     "source": [
      "Explicitly"
     ]
    },
    {
     "cell_type": "markdown",
     "metadata": {},
     "source": [
      "\\begin{equation}\n",
      "    \\phi(x, y) = xU_{\\infty}\\cos(\\alpha) + yU_{\\infty}\\sin(\\alpha) -\n",
      "    \\frac{1}{2\\pi} \\int_{sheet} \\gamma(s)\\tan^{-1} \\frac{y-\\eta(s)}{x-\\xi(s)}ds\n",
      "\\end{equation}"
     ]
    },
    {
     "cell_type": "markdown",
     "metadata": {},
     "source": [
      "If we discretize into $N$ panels, as we were doing in the preious lessons. Then we can write the potential at a point $(x,y)$ as:\n",
      "\n",
      "\\begin{equation}\n",
      "    \\phi\\left(x,y\\right) = xU_\\infty \\cos \\alpha + yU_\\infty  \\sin \\alpha - \\sum_{j=1}^N \\frac{1}{2\\pi} \\int_j \\gamma_j (s) \\tan^{-1} \\left(\\frac{y-\\eta_j(s)}{x-\\xi_j(s)}\\right) {\\rm d}s_j\n",
      "\\end{equation}"
     ]
    },
    {
     "cell_type": "markdown",
     "metadata": {},
     "source": [
      "where:\n",
      "\n",
      "\\begin{equation}\n",
      "\\left\\{\n",
      "\\begin{array}{l}\n",
      "\\xi_j(s)=x_j-s\\sin\\beta_j \\\\\n",
      "\\eta_j(s)=y_j+s\\cos\\beta_j\n",
      "\\end{array}\n",
      ",\\ \\ \\ \n",
      "0\\le s \\le l_j\n",
      "\\right.\n",
      "\\end{equation}\n",
      "\n",
      "and $\\gamma_j (s)$ can be written as:\n",
      "\\begin{equation}\n",
      "    \\gamma_j (s) = \\gamma_j + \\left(\\frac{\\gamma_{j+1}-\\gamma_j}{l_j}  \\right)\\; s\n",
      "\\end{equation}\n",
      "\n",
      "with $l_j$ the length of the panel $j$ and $\\beta_j$ is the angle between the panel's normal and the $x$-axis. "
     ]
    },
    {
     "cell_type": "markdown",
     "metadata": {},
     "source": [
      "Then, replacing what we know for $\\gamma_j (s)$ we can write the potential as:\n",
      "\n",
      "\\begin{equation}\n",
      "    \\phi\\left(x,y\\right) = xU_\\infty \\cos \\alpha + yU_\\infty  \\sin \\alpha - \\sum_{j=1}^N \\frac{\\gamma_j}{2\\pi} \\int_j  \\tan^{-1} \\left(\\frac{y-\\eta_j(s)}{x-\\xi_j(s)}\\right) {\\rm d}s_j \\\\ \n",
      "    -\\sum_{j=1}^N \\frac{1}{2\\pi} \\left(\\frac{\\gamma_{j+1}-\\gamma_j}{l_j}  \\right) \\int_j  s\\; \\tan^{-1} \\left(\\frac{y-\\eta_j(s)}{x-\\xi_j(s)}\\right) {\\rm d}s_j\n",
      "\\end{equation}\n"
     ]
    },
    {
     "cell_type": "markdown",
     "metadata": {},
     "source": [
      "The first three terms of the potential should be familiar, we already fight with the math that those terms involve in the previous lessons. "
     ]
    },
    {
     "cell_type": "markdown",
     "metadata": {},
     "source": [
      "##Normal and tangential velocity\n",
      "\n",
      "We know that we can write the normal and tangential components of the velocity using:\n",
      "\n",
      "\\begin{equation}\n",
      "    \\left\\{\n",
      "    \\begin{array}{l}\n",
      "    U_{\\text{n}}(x, y)=\\frac{\\partial \\phi}{\\partial x}(x, y) \\,n_x+\\frac{\\partial \\phi}{\\partial y}(x, y) \\,n_y \\\\\n",
      "    U_{\\text{t}}(x, y)=\\frac{\\partial \\phi}{\\partial x}(x, y) \\,t_x+\\frac{\\partial \\phi}{\\partial y}(x, y) \\,t_y\n",
      "    \\end{array}\n",
      "    \\right.\n",
      "\\end{equation}\n",
      "\n",
      "where $n_x=\\cos (\\beta_i)$ , $n_y=\\sin (\\beta_i)$ , $t_x=-\\sin (\\beta_i)$  and $t_y=\\cos (\\beta_i)$. Then in order to get the different components of the velocity we need to take some derivatives. We know that you don't like to do a lot of math, but if you completed the exercise of lesson 11 ([11_Lesson11_Exercise](http://nbviewer.ipython.org/github/barbagroup/AeroPython/blob/master/lessons/11_Lesson11_Exercise.ipynb)) then you have all the derivatives done!!! "
     ]
    },
    {
     "cell_type": "markdown",
     "metadata": {},
     "source": [
      "Then, the components of the gradient should look like this:\n",
      "\n",
      "\\begin{align}\n",
      "    \\frac{\\partial \\phi}{\\partial x}(x,y) &= U_\\infty \\cos \\alpha \\\\\n",
      "    &+ \\frac{1}{{2\\pi}} \\sum_{j=1}^N \\gamma_j \\int_j \\frac{(y-\\eta_j(s))}{(x-\\xi_j(s))^2 + (y-\\eta_j(s))^2} {\\rm d}s_j \\\\ \n",
      "    &+ \\frac{1}{2\\pi}\\sum_{j=1}^N  \\left(\\frac{\\gamma_{j+1}-\\gamma_j}{l_j}  \\right) \\int_j  \\frac{s\\;(y-\\eta_j(s))}{(x-\\xi_j(s))^2 + (y-\\eta_j(s))^2} {\\rm d}s_j\n",
      "\\end{align}\n",
      "\n",
      "\\begin{align}\n",
      "    \\frac{\\partial \\phi}{\\partial y}(x,y) &= U_\\infty \\sin \\alpha \\\\\n",
      "    &- \\frac{1}{{2\\pi}} \\sum_{j=1}^N \\gamma_j \\int_j \\frac{(x-\\xi_j(s))}{(x-\\xi_j(s))^2 + (y-\\eta_j(s))^2} {\\rm d}s_j \\\\ \n",
      "    &- \\frac{1}{2\\pi}\\sum_{j=1}^N  \\left(\\frac{\\gamma_{j+1}-\\gamma_j}{l_j}  \\right) \\int_j  \\frac{s\\;(x-\\xi_j(s))}{(x-\\xi_j(s))^2 + (y-\\eta_j(s))^2} {\\rm d}s_j\n",
      "\\end{align}\n",
      "\n"
     ]
    },
    {
     "cell_type": "markdown",
     "metadata": {},
     "source": [
      "Then, rearranging some terms we can write $U_{\\text{n}}(x, y)$ and $U_{\\text{t}}(x, y)$ as:\n",
      "\n",
      "\\begin{align}\n",
      "    U_{\\text{n}}(x, y) & = U_\\infty \\cos(\\alpha - \\beta_i) \\\\\n",
      "    &+\\frac{1}{{2\\pi}}\\sum_{j=1}^N \\gamma_j \\left[ \\int_j f_j(s) {\\rm d}s \\cos(\\beta_i) - \\int_j g_j(s) {\\rm d}s \\sin(\\beta_i) \\right] \\\\\n",
      "    &-\\frac{1}{{2\\pi}}\\sum_{j=1}^N \\frac{\\gamma_j}{l_j} \\left[ \\int_j s\\,f_j(s) {\\rm d}s \\cos(\\beta_i) - \\int_j s\\,g_j(s) {\\rm d}s \\sin(\\beta_i) \\right] \\\\\n",
      "    &+ \\frac{1}{{2\\pi}}\\sum_{j=1}^N \\frac{\\gamma_{j+1}}{l_j} \\left[ \\int_j s\\,f_j(s) {\\rm d}s \\cos(\\beta_i) - \\int_j s\\,g_j(s) {\\rm d}s \\sin(\\beta_i) \\right]    \n",
      "\\end{align}\n",
      "\n",
      "\\begin{align}\n",
      "    U_{\\text{t}}(x, y) & = U_\\infty \\sin(\\alpha - \\beta_i) \\\\\n",
      "    &+\\frac{1}{{2\\pi}}\\sum_{j=1}^N \\gamma_j \\left[ \\int_j f_j(s) {\\rm d}s (-\\sin(\\beta_i)) - \\int_j g_j(s) {\\rm d}s (\\cos(\\beta_i)) \\right] \\\\\n",
      "    &-\\frac{1}{{2\\pi}}\\sum_{j=1}^N \\frac{\\gamma_j}{l_j} \\left[ \\int_j s\\,f_j(s) {\\rm d}s (-\\sin(\\beta_i)) - \\int_j s\\,g_j(s) {\\rm d}s (\\cos(\\beta_i)) \\right] \\\\\n",
      "    &+ \\frac{1}{{2\\pi}}\\sum_{j=1}^N \\frac{\\gamma_{j+1}}{l_j} \\left[ \\int_j s\\,f_j(s) {\\rm d}s (-\\sin(\\beta_i)) - \\int_j s\\,g_j(s) {\\rm d}s (\\cos(\\beta_i)) \\right]    \n",
      "\\end{align}"
     ]
    },
    {
     "cell_type": "markdown",
     "metadata": {},
     "source": [
      "where $f_j(s)$ and $g_j(s)$ are:\n",
      "\n",
      "\\begin{equation}\n",
      "    f_j(s) = \\frac{(y-\\eta_j(s))}{(x-\\xi_j(s))^2 + (y-\\eta_j(s))^2}\n",
      "\\end{equation}\n",
      "\n",
      "\\begin{equation}\n",
      "    g_j(s) = \\frac{(x-\\xi_j(s))}{(x-\\xi_j(s))^2 + (y-\\eta_j(s))^2}\n",
      "\\end{equation}"
     ]
    },
    {
     "cell_type": "markdown",
     "metadata": {},
     "source": [
      "Now we have all the expressions that we need to solve our problem, so let's start coding!!!"
     ]
    },
    {
     "cell_type": "markdown",
     "metadata": {},
     "source": [
      "##Discretization into panels"
     ]
    },
    {
     "cell_type": "code",
     "collapsed": false,
     "input": [
      "#Importing the libraries and modules we need.\n",
      "import numpy\n",
      "from scipy import integrate, linalg\n",
      "from matplotlib import pyplot\n",
      "#The next line allows as to plot directly in the notebook.\n",
      "%matplotlib inline"
     ],
     "language": "python",
     "metadata": {},
     "outputs": [],
     "prompt_number": 1
    },
    {
     "cell_type": "markdown",
     "metadata": {},
     "source": [
      "We are going to work with the airfoil _NACA0012_, so we are going to load the same data that we were using in previous lessons. We will use the cosine method to get the `x_ends` and we are going to generate the `y_ends` using the [equation for a symmetrical 4-digit _NACA_ airfoil](http://en.wikipedia.org/wiki/NACA_airfoil) with the correction for zero-thickness trailing edge. We need this because now the strength singularities are going to be at the beginning and end of each panel.\n",
      "\n",
      "The data we are loading is just to plot the airfoil and to be ensure panels follow the shape of the airfoil. However, we are not going to use this data to build the panels, instead we will use the equation we mention before."
     ]
    },
    {
     "cell_type": "code",
     "collapsed": false,
     "input": [
      "#Loading the geometry from a data file\n",
      "\n",
      "x, y = numpy.loadtxt('./resources/naca0012.dat', dtype=float, delimiter='\\t', unpack=True)\n"
     ],
     "language": "python",
     "metadata": {},
     "outputs": [],
     "prompt_number": 2
    },
    {
     "cell_type": "markdown",
     "metadata": {},
     "source": [
      "The `Panel` class is going to be similar to the one that we were using in the previous lessons. "
     ]
    },
    {
     "cell_type": "code",
     "collapsed": false,
     "input": [
      "class Panel:\n",
      "    \"\"\"Contains information related to a panel.\"\"\"\n",
      "    def __init__(self, xa, ya, xb, yb):\n",
      "        \"\"\"Creates a panel.\n",
      "        \n",
      "        Arguments\n",
      "        ---------\n",
      "        xa, ya: Cartesian coordinates of the first end-point.\n",
      "        xb, yb: Cartesian coordinates of the second end-point.\n",
      "        \"\"\"\n",
      "        self.xa, self.ya = xa, ya\n",
      "        self.xb, self.yb = xb, yb\n",
      "        \n",
      "        self.xc, self.yc = (xa+xb)/2, (ya+yb)/2            # control-point (center-point)\n",
      "        self.length = numpy.sqrt((xb-xa)**2+(yb-ya)**2)     # length of the panel\n",
      "        \n",
      "        # orientation of the panel (angle between x-axis and panel's normal)\n",
      "        if xb-xa <= 0.:\n",
      "            self.beta = numpy.arccos((yb-ya)/self.length)\n",
      "        elif xb-xa > 0.:\n",
      "            self.beta = numpy.pi + numpy.arccos(-(yb-ya)/self.length)\n",
      "        \n",
      "        # location of the panel\n",
      "        if self.beta <= numpy.pi:\n",
      "            self.loc = 'upper face'                   #upper face\n",
      "        else:\n",
      "            self.loc = 'lower face'                   #lower face\n",
      "        \n",
      "        self.vt = 0.                                # tangential velocity\n",
      "        self.cp = 0.                                # pressure coefficient"
     ],
     "language": "python",
     "metadata": {},
     "outputs": [],
     "prompt_number": 3
    },
    {
     "cell_type": "code",
     "collapsed": false,
     "input": [
      "def define_panels(N):\n",
      "    \"\"\"Discretizes the geometry into panels using 'cosine' method.\n",
      "    \n",
      "    Arguments\n",
      "    ---------\n",
      "    N: number of panels \n",
      "    \n",
      "    Returns\n",
      "    -------\n",
      "    panels: Numpy array of panels\n",
      "    \"\"\"\n",
      "    \n",
      "    R = (x.max()-x.min())/2.                            #radius of the circle\n",
      "    x_center = (x.max()+x.min())/2.                     #x_coord of the center of the circle\n",
      "    \n",
      "    theta = numpy.linspace(0, 2*numpy.pi, N+1)          #array of angles\n",
      "    x_circle = x_center +  R*numpy.cos(theta)           #x_coord of the circle\n",
      "    \n",
      "    x_ends = numpy.copy(x_circle)                       #x_ends of the geometry panels (idem circle)\n",
      "    y_ends = numpy.empty_like(x_ends)                   #initializing the y_ends array\n",
      "    y_t = numpy.empty_like(x_ends)                      #half thickness at a given value of x (centerline to surface)\n",
      "    \n",
      "    x_ends = numpy.append(x_ends, x_ends[0])            # extend array with the last element using numpy.append \n",
      "    \n",
      "    t=0.12                                              #the maximum thickness as a fraction of the chord \n",
      "                                                        #(so 100 t gives the last two digits in the NACA 4-digit denomination).\n",
      "    c=1.                                                #coord length\n",
      "    \n",
      "    y_t = 5.*t*c*(0.2969*numpy.sqrt(x_ends/c) + (-0.1260)*(x_ends/c)+\\\n",
      "                    (-0.3516)*(x_ends/c)**2 + (0.2843)*(x_ends/c)**3 +\\\n",
      "                    (-0.1036)*(x_ends/c)**4)\n",
      "    \n",
      "    # computes the y_end\n",
      "    \n",
      "    y_ends[0:N/2] = y_t[0:N/2]\n",
      "    y_ends[N/2:N+1] = -y_t[N/2:N+1]\n",
      "    \n",
      "    \n",
      "    panels = numpy.empty(N, dtype=object)\n",
      "    for i in range(N):\n",
      "        panels[i] = Panel(x_ends[i], y_ends[i], x_ends[i+1], y_ends[i+1])\n",
      "    \n",
      "    return panels  "
     ],
     "language": "python",
     "metadata": {},
     "outputs": [],
     "prompt_number": 4
    },
    {
     "cell_type": "code",
     "collapsed": false,
     "input": [
      "##Create the panels\n",
      "N = 100                            # number of panels\n",
      "panels = define_panels(N)"
     ],
     "language": "python",
     "metadata": {},
     "outputs": [],
     "prompt_number": 5
    },
    {
     "cell_type": "code",
     "collapsed": false,
     "input": [
      "#Plotting the geometry\n",
      "\n",
      "#First we'll set some parameters to have a nice plot\n",
      "val_x, val_y = 0.1, 0.2              \n",
      "\n",
      "xp_min, xp_max = min(panel.xa for panel in panels) , max(panel.xa for panel in panels)    \n",
      "yp_min, yp_max = min(panel.ya for panel in panels) , max(panel.ya for panel in panels)    \n",
      "\n",
      "#limits of the plot\n",
      "xp_start, xp_end = xp_min-val_x*(xp_max-xp_min), xp_max+val_x*(xp_max-xp_min)\n",
      "yp_start, yp_end = yp_min-val_y*(yp_max-yp_min), yp_max+val_y*(yp_max-yp_min)\n",
      "\n",
      "#Plot\n",
      "size = 10\n",
      "pyplot.figure(figsize=(size, (yp_end-yp_start)/(xp_end-xp_start)*size))\n",
      "pyplot.grid(True)\n",
      "pyplot.xlabel('x', fontsize=15)\n",
      "pyplot.ylabel('y', fontsize=15)\n",
      "pyplot.xlim(xp_start, xp_end)\n",
      "pyplot.ylim(yp_start, yp_end)\n",
      "\n",
      "pyplot.plot(x, y, color='deeppink', linestyle='-', linewidth=2);\n",
      "\n",
      "pyplot.plot(numpy.append([panel.xa for panel in panels], panels[0].xa), \n",
      "         numpy.append([panel.ya for panel in panels], panels[0].ya), \n",
      "         linestyle='-', linewidth=1, marker='o', markersize=6, color='#483D8B');"
     ],
     "language": "python",
     "metadata": {},
     "outputs": [
      {
       "metadata": {},
       "output_type": "display_data",
       "png": "[encoded data removed]",
       "text": [
        "<matplotlib.figure.Figure at 0x7fc5bac830d0>"
       ]
      }
     ],
     "prompt_number": 6
    },
    {
     "cell_type": "markdown",
     "metadata": {},
     "source": [
      "##Free stream conditions\n",
      "\n",
      "The airfoil is immersed in a free-stream ($U_\\infty$,$\\alpha$) where $U_\\infty$ and $\\alpha$ are the velocity magnitude and angle of attack, respectively."
     ]
    },
    {
     "cell_type": "code",
     "collapsed": false,
     "input": [
      "class Freestream:\n",
      "    \"\"\"Freestream conditions.\"\"\"\n",
      "    def __init__(self, U_inf=1.0, alpha=0.0):\n",
      "        \"\"\"Sets the freestream conditions.\n",
      "        \n",
      "        Arguments\n",
      "        ---------\n",
      "        U_inf: Farfield speed (default 1.0).\n",
      "        alpha: Angle of attack in degrees (default 0.0).\n",
      "        \"\"\"\n",
      "        self.U_inf = U_inf\n",
      "        self.alpha = alpha*numpy.pi/180          # degrees to radians"
     ],
     "language": "python",
     "metadata": {},
     "outputs": [],
     "prompt_number": 7
    },
    {
     "cell_type": "code",
     "collapsed": false,
     "input": [
      "# defines and creates the object freestream\n",
      "U_inf = 1.0                                # freestream speed\n",
      "alpha = 0.0                                # angle of attack (in degrees)\n",
      "freestream = Freestream(U_inf, alpha)      # instantiation of the object freestream"
     ],
     "language": "python",
     "metadata": {},
     "outputs": [],
     "prompt_number": 8
    },
    {
     "cell_type": "markdown",
     "metadata": {},
     "source": [
      "##Flow-tangency boundary condition\n",
      "\n",
      "As we already know, to solve our problem, we need to require $U_{\\text{n}}(x, y)=0$ at the center (collocation point) of each panel. However we have to be careful, because at $(x_{c_i}, y_{c_i})$ all our integrals have a singularity. To skip that singularity, for $i=j$ we have to solve them analytically in the local coordinates of the panel.\n",
      "\n",
      "So for the flow-tangency boundary condition, the integrals (in local coordinates) that we have to solve analytically are:\n",
      "\n",
      "\\begin{equation}\n",
      "    I_1=\\frac{1}{2\\pi} \\int^l_0  \\frac{(x^*_{i}-s)}{(x^*_{i}-s)^2 + (y^*_{i})^2} {\\rm d}s\n",
      "\\end{equation}\n",
      "\n",
      "\\begin{equation}\n",
      "    I_2=\\frac{1}{2\\pi l} \\int^l_0  \\frac{s\\,(x^*_{i}-s)}{(x^*_{i}-s)^2 + (y^*_{i})^2} {\\rm d}s\n",
      "\\end{equation}\n",
      "\n",
      "So, after we integrate, using that at the center point $r_{i,j}=r_{i,j+1}$ and $\\theta_{i,j+1}-\\theta_{i,j}=\\pi$ we get that:\n",
      "\n",
      "\n",
      "\\begin{equation}\n",
      "    I_1=0 \\qquad ; \\qquad I_2=-\\frac{1}{2\\pi}\n",
      "\\end{equation}\n",
      "\n",
      "Tip:\n",
      "\\begin{equation}\n",
      "    \\tan^{-1} \\left(\\frac{s-x}{y}\\right)=\\tan^{-1} \\left(\\frac{y}{x-s}\\right) \\;-\\; \\frac{\\pi}{2}\n",
      "\\end{equation}"
     ]
    },
    {
     "cell_type": "markdown",
     "metadata": {},
     "source": [
      "For all the integrals that appear in our equations, we are gonna use the function `integrate.quad()` from SciPy. So following the same idea we use in the previous lessons, we are going to define two integrate functions on to solve the terms of the form:\n",
      "\n",
      "`integral`:\n",
      "\n",
      "\\begin{equation}\n",
      "     \\int_j f_j(s) {\\rm d}s\\;a - \\int_j g_j(s) {\\rm d}s\\;b\n",
      "\\end{equation}\n",
      "\n",
      "`integral_s`:\n",
      "\n",
      "\\begin{equation}\n",
      "     \\int_j s\\,f_j(s) {\\rm d}s\\;a - \\int_j s\\,g_j(s) {\\rm d}s\\;b\n",
      "\\end{equation}\n",
      "\n",
      "where $a$ and $b$ can be $n_x=\\cos (\\beta_i)$ , $n_y=\\sin (\\beta_i)$ , $t_x=-\\sin (\\beta_i)$  and $t_y=\\cos (\\beta_i)$ depending the case. "
     ]
    },
    {
     "cell_type": "code",
     "collapsed": false,
     "input": [
      "def integral(x, y, panel, dxdk, dydk):\n",
      "    \"\"\"\n",
      "    Arguments\n",
      "    ---------\n",
      "    x, y: Cartesian coordinates of the point.\n",
      "    panel: panel which contribution is evaluated.\n",
      "    dxdk: derivative of x in the z-direction.\n",
      "    dydk:  derivative of y in the z-direction.\n",
      "    \n",
      "    Returns\n",
      "    -------\n",
      "    Integral over the panel of the influence at one point.\n",
      "    \"\"\"\n",
      "    def func(s):\n",
      "        return ( ((x - (panel.xa - numpy.sin(panel.beta)*s))*dxdk\n",
      "                  +(y - (panel.ya + numpy.cos(panel.beta)*s))*dydk)\n",
      "                / ((x - (panel.xa - numpy.sin(panel.beta)*s))**2\n",
      "                   +(y - (panel.ya + numpy.cos(panel.beta)*s))**2) )\n",
      "    return integrate.quad(lambda s:func(s), 0., panel.length)[0]"
     ],
     "language": "python",
     "metadata": {},
     "outputs": [],
     "prompt_number": 9
    },
    {
     "cell_type": "code",
     "collapsed": false,
     "input": [
      "def integral_s(x, y, panel, dxdk, dydk):\n",
      "    \"\"\"\n",
      "    Arguments\n",
      "    ---------\n",
      "    x, y: Cartesian coordinates of the point.\n",
      "    panel: panel which contribution is evaluated.\n",
      "    dxdk: derivative of x in the z-direction.\n",
      "    dydk:  derivative of y in the z-direction.\n",
      "    \n",
      "    Returns\n",
      "    -------\n",
      "    Integral over the panel of the influence at one point.\n",
      "    \"\"\"\n",
      "    def func(s):\n",
      "        return ( s*((x - (panel.xa - numpy.sin(panel.beta)*s))*dxdk\n",
      "                  +(y - (panel.ya + numpy.cos(panel.beta)*s))*dydk)\n",
      "                / ((x - (panel.xa - numpy.sin(panel.beta)*s))**2\n",
      "                   +(y - (panel.ya + numpy.cos(panel.beta)*s))**2) )\n",
      "    return integrate.quad(lambda s:func(s), 0., panel.length)[0]"
     ],
     "language": "python",
     "metadata": {},
     "outputs": [],
     "prompt_number": 10
    },
    {
     "cell_type": "markdown",
     "metadata": {},
     "source": [
      "Now we can use this functions to calculate the coefficients of the matrices corresponding to each term in the equation for $U_{\\text{n}}(x, y)$ to finally solve the linear system $$[A][\\gamma] = [b]$$.\n",
      "\n",
      "So we will call:\n",
      "\n",
      "$A_1$ the term related to the first integral:\n",
      "\n",
      "\\begin{equation}\n",
      "      \\int_j f_j(s) {\\rm d}s\\;\\cos(\\beta_i) - \\int_j g_j(s) {\\rm d}s\\;\\sin(\\beta_i)\n",
      "\\end{equation}\n",
      "\n",
      "and $A_2$ the term related to the second integral:\n",
      "\n",
      "\\begin{equation}\n",
      "      \\int_j s\\,f_j(s) {\\rm d}s\\;\\cos(\\beta_i) - \\int_j s\\,g_j(s) {\\rm d}s\\;\\sin(\\beta_i)\n",
      "\\end{equation}\n",
      "\n",
      "and $A_3=A_2$ the term related to the third integral. We want to keep the three terms to avoid confusions. $A_2$ correspond to $\\gamma_j$ and $A_3$ correspond to $\\gamma_{j+1}$.\n",
      "\n",
      "Then, using the information from the analytical solutions when $i=j$ and our integral functions, we can build three different functions that return these coefficients."
     ]
    },
    {
     "cell_type": "code",
     "collapsed": false,
     "input": [
      "def coeff_1_normal(panels):\n",
      "    \"\"\"\n",
      "    Build matrix coefficients associated with the first\n",
      "    integral in U_n ---> (A_1)\n",
      "    \"\"\"\n",
      "    N = len(panels)\n",
      "    A1 = numpy.empty((N, N), dtype=float)          \n",
      "    numpy.fill_diagonal(A1, 0.)  #value of I_1\n",
      "\n",
      "    for i, p_i in enumerate(panels):\n",
      "        for j, p_j in enumerate(panels):                \n",
      "            if i != j:\n",
      "                A1[i,j] = 0.5/numpy.pi*(integral(p_i.xc, p_i.yc, p_j, -numpy.sin(p_i.beta),numpy.cos(p_i.beta)))\n",
      "                         \n",
      "    return A1\n"
     ],
     "language": "python",
     "metadata": {},
     "outputs": [],
     "prompt_number": 11
    },
    {
     "cell_type": "code",
     "collapsed": false,
     "input": [
      "def coeff_2_normal(panels):\n",
      "    \"\"\"\n",
      "    Build matrix coefficients associated with the second\n",
      "    integral in U_n ---> (A_2)\n",
      "    \"\"\"\n",
      "    N = len(panels)\n",
      "    A2 = numpy.empty((N, N), dtype=float)          \n",
      "    numpy.fill_diagonal(A2, -0.5/numpy.pi)  #value of I_2\n",
      "    for i, p_i in enumerate(panels):\n",
      "        for j, p_j in enumerate(panels):    \n",
      "            if i != j:\n",
      "                A2[i,j] = (0.5/numpy.pi)*(1./p_j.length)*(integral_s(p_i.xc, p_i.yc, p_j, -numpy.sin(p_i.beta),numpy.cos(p_i.beta)))\n",
      "                         \n",
      "    return A2\n"
     ],
     "language": "python",
     "metadata": {},
     "outputs": [],
     "prompt_number": 12
    },
    {
     "cell_type": "code",
     "collapsed": false,
     "input": [
      "def coeff_3_normal(panels, A2):\n",
      "    \"\"\"\n",
      "    Build matrix coefficients associated with the third\n",
      "    integral in U_n ---> (A_3)\n",
      "    \"\"\"\n",
      "    N = len(panels)\n",
      "    A3 = A2\n",
      "                         \n",
      "    return A3"
     ],
     "language": "python",
     "metadata": {},
     "outputs": [],
     "prompt_number": 13
    },
    {
     "cell_type": "code",
     "collapsed": false,
     "input": [
      "#Let's call this functions to get A1,A2,A3.\n",
      "\n",
      "A1 = coeff_1_normal(panels)\n",
      "A2 = coeff_2_normal(panels)\n",
      "A3 = coeff_3_normal(panels,A2)"
     ],
     "language": "python",
     "metadata": {},
     "outputs": [],
     "prompt_number": 14
    },
    {
     "cell_type": "markdown",
     "metadata": {},
     "source": [
      "We got our coefficintes, but how are these guys related with the matrix $A$ that we need to build in order to solve our system?"
     ]
    },
    {
     "cell_type": "markdown",
     "metadata": {},
     "source": [
      "##How to build the A matrix\n",
      "\n",
      "This is the moment, where you should grab a piece of paper and write some terms of the $U_n$ for a panel $i$. After writing couple of $j$-terms, you should notice that. (tip: write the terms counting from zero, so then you match this with the code)\n",
      "\n",
      "* For $j=0$ you only have contribution from the first and second integral ($A_1$ and $A_2$), which are the coefficients related with $\\gamma_j$. \n",
      "\n",
      "\n",
      "* For $j=N$ (last panel) you only have contribution from the third integral ($A_3$), which is the coefficient related with $\\gamma_{j+1}$. \n",
      "\n",
      "\n",
      "* For $ 0 <j < N $ (all the panels in the middle) we have contribution from the three integrals.\n",
      "\n",
      "So yes, our matrix will have $N+1$ columns. We will need an extra row \n",
      "but we will talk about that later. If you are impatient, remember _Kutta condition_.\n",
      "\n",
      "Then, the final matrix $A$ will have this contributions:\n",
      "\n",
      "<center><img src=\"./resources/A_matrix.png\" width=800><center>\n"
     ]
    },
    {
     "cell_type": "code",
     "collapsed": false,
     "input": [
      "#In code, except for the kutta condition (in cell after)...\n",
      "\n",
      "def A_normal(panels,A1,A2,A3):\n",
      "    \"\"\"\n",
      "    \"\"\"\n",
      "    N = len(panels)\n",
      "    A_n = numpy.zeros((N, N+1), dtype=float) \n",
      "    \n",
      "    for i in range(N):\n",
      "        \n",
      "        A_n[i,0] = A1[i,0] - A2[i,0]\n",
      "        A_n[i,-1] = A3[i,-1]\n",
      "        \n",
      "        for j in range(N-1):\n",
      "            \n",
      "            A_n[i,j+1] = A1[i,j+1] - A2[i,j+1] + A3[i,j]\n",
      "    \n",
      "    return A_n"
     ],
     "language": "python",
     "metadata": {},
     "outputs": [],
     "prompt_number": 15
    },
    {
     "cell_type": "markdown",
     "metadata": {},
     "source": [
      "##Kutta condition\n",
      "\n",
      "In this case the _kutta condition_ is easy, we just need to ask $\\gamma_0 + \\gamma_{N}=0$ then:"
     ]
    },
    {
     "cell_type": "code",
     "collapsed": false,
     "input": [
      "#Kutta array\n",
      "\n",
      "def kutta_array(N):\n",
      "    \"\"\"Builds the kutta array.\n",
      "    \n",
      "    Arguments\n",
      "    ---------\n",
      "    N: number of panels\n",
      "    \n",
      "    Returns\n",
      "    -------\n",
      "    k_a -- 1D array ((N+1)x1, N is the number of panels). kutta array\n",
      "    \"\"\"\n",
      "    k_a = numpy.zeros(N+1,dtype=float)\n",
      "\n",
      "    k_a[0] = 1.\n",
      "    k_a[-1] = 1.\n",
      "    \n",
      "    return k_a"
     ],
     "language": "python",
     "metadata": {},
     "outputs": [],
     "prompt_number": 16
    },
    {
     "cell_type": "markdown",
     "metadata": {},
     "source": [
      "##Building the A matrix and the RHS"
     ]
    },
    {
     "cell_type": "code",
     "collapsed": false,
     "input": [
      "def build_matrix(A_n, k_a, N):\n",
      "    \"\"\"Builds the A matrix to solve the linear system.\n",
      "    \n",
      "    Arguments\n",
      "    ---------\n",
      "    panels: array of panels.\n",
      "    A_n: Nx(N+1) matrix (N is the number of panels).\n",
      "    k_a -- 1D array ((N+1)x1, N is the number of panels).\n",
      "    Returns\n",
      "    -------\n",
      "    A_solve: (N+1)x(N+1) matrix (N is the number of panels).\n",
      "    \"\"\"\n",
      "\n",
      "    #Matrix A_solve (N+1)x(N+1)\n",
      "\n",
      "    A_solve = numpy.empty((N+1, N+1), dtype=float)\n",
      "    \n",
      "    A_solve[0:N,:] = A_n[:,:]\n",
      "    A_solve[-1,:] = k_a[:]\n",
      "\n",
      "    return A_solve"
     ],
     "language": "python",
     "metadata": {},
     "outputs": [],
     "prompt_number": 17
    },
    {
     "cell_type": "code",
     "collapsed": false,
     "input": [
      "def build_rhs(panels, freestream):\n",
      "    \"\"\"Builds the RHS of the linear system.\n",
      "    \n",
      "    Arguments\n",
      "    ---------\n",
      "    panels: array of panels.\n",
      "    freestream: farfield conditions.\n",
      "    \n",
      "    Returns\n",
      "    -------\n",
      "    b: 1D array ((N+1)x1, N is the number of panels).\n",
      "    \"\"\"\n",
      "    N = len(panels)\n",
      "    b = numpy.empty(N+1,dtype=float)\n",
      "    \n",
      "    for i, panel in enumerate(panels):\n",
      "        b[i] = -freestream.U_inf * numpy.cos(freestream.alpha - panel.beta)\n",
      "    b[-1] = 0.\n",
      "    \n",
      "    return b"
     ],
     "language": "python",
     "metadata": {},
     "outputs": [],
     "prompt_number": 18
    },
    {
     "cell_type": "markdown",
     "metadata": {},
     "source": [
      "Let's call all the functions we need to solve the system"
     ]
    },
    {
     "cell_type": "code",
     "collapsed": false,
     "input": [
      "N=len(panels)\n",
      "#To build A\n",
      "A_n =A_normal(panels,A1,A2,A3)\n",
      "k_a = kutta_array(N)\n",
      "\n",
      "#Putting all together to get A\n",
      "A = build_matrix(A_n, k_a, N)\n",
      "\n",
      "#RHS\n",
      "b = build_rhs(panels, freestream)\n"
     ],
     "language": "python",
     "metadata": {},
     "outputs": [],
     "prompt_number": 19
    },
    {
     "cell_type": "markdown",
     "metadata": {},
     "source": [
      "To solve the linear system we use `linalg.solve` from SciPy.  "
     ]
    },
    {
     "cell_type": "code",
     "collapsed": false,
     "input": [
      "# solves the linear system\n",
      "gammas = linalg.solve(A, b)"
     ],
     "language": "python",
     "metadata": {},
     "outputs": [],
     "prompt_number": 20
    },
    {
     "cell_type": "markdown",
     "metadata": {},
     "source": [
      "Now we have the solution of our system we can get the surface pressure coefficient by calculating the tangential velocity. So let's keep coding (and doing a little bit more of math)."
     ]
    },
    {
     "cell_type": "markdown",
     "metadata": {},
     "source": [
      "##Surface pressure coefficient"
     ]
    },
    {
     "cell_type": "markdown",
     "metadata": {},
     "source": [
      "The pressure coefficient at the center of the $i$-th panel is:\n",
      "\n",
      "$$C_{p_i} = 1 - (\\frac{U_{t_i}}{U_\\infty})^2$$\n",
      "\n",
      "So, we have to compute the tangential velocity. However, we can not escape from the math. To calculate $U_t$, we have to do some integral, do you remember?. Guess what, yes! we have the singularities issue again. In this case, the integrals we have to solve analytically are:\n",
      "\n",
      "\\begin{equation}\n",
      "    I_3=\\frac{1}{2\\pi} \\int^l_0  \\frac{y^*_{i}}{(x^*_{i}-s)^2 + (y^*_{i})^2} {\\rm d}s\n",
      "\\end{equation}\n",
      "\n",
      "\\begin{equation}\n",
      "    I_4=\\frac{1}{2\\pi l} \\int^l_0  \\frac{s\\,y^*_{i}}{(x^*_{i}-s)^2 + (y^*_{i})^2} {\\rm d}s\n",
      "\\end{equation}\n",
      "\n",
      "So, after we integrate, using that at the center point $r_{i,j}=r_{i,j+1}$ and $\\theta_{i,j+1}-\\theta_{i,j}=\\pi$ we get that:\n",
      "\n",
      "\n",
      "\\begin{equation}\n",
      "    I_3=-\\frac{1}{2} \\qquad ; \\qquad I_4=-\\frac{1}{4}\n",
      "\\end{equation}\n",
      "\n",
      "Tip:\n",
      "\\begin{equation}\n",
      "    \\tan^{-1} \\left(\\frac{s-x}{y}\\right)=\\tan^{-1} \\left(\\frac{y}{x-s}\\right) \\;-\\; \\frac{\\pi}{2}\n",
      "\\end{equation}"
     ]
    },
    {
     "cell_type": "markdown",
     "metadata": {},
     "source": [
      "So, following the same idea that we use to build the **A** matrix, we define:\n",
      "\n",
      "$B_1$ the term related to the first integral:\n",
      "\n",
      "\\begin{equation}\n",
      "      \\int_j f_j(s) {\\rm d}s\\;(-\\sin(\\beta_i)) + \\int_j g_j(s) {\\rm d}s\\;\\cos(\\beta_i)\n",
      "\\end{equation}\n",
      "\n",
      "and $B_2$ the term related to the second integral:\n",
      "\n",
      "\\begin{equation}\n",
      "      \\int_j s\\,f_j(s) {\\rm d}s\\;(-\\sin(\\beta_i)) + \\int_j s\\,g_j(s) {\\rm d}s\\;\\cos(\\beta_i)\n",
      "\\end{equation}\n",
      "\n",
      "and $B_3=B_2$ the term related to the third integral. We want to keep the three terms to avoid confusions. $B_2$ correspond to $\\gamma_j$ and $B_3$ correspond to $\\gamma_{j+1}$.\n",
      "\n",
      "Then, using the information from the analytical solutions when $i=j$ and our integral functions, we can build three different functions that return these coefficients."
     ]
    },
    {
     "cell_type": "code",
     "collapsed": false,
     "input": [
      "def coeff_1_tangential(panels):\n",
      "    \n",
      "    \"\"\"\n",
      "    Build matrix coefficients associated with the first\n",
      "    integral in U_t ---> (B_1)\n",
      "    \"\"\"\n",
      "\n",
      "    N = len(panels)\n",
      "    B1 = numpy.empty((N, N), dtype=float)          \n",
      "    numpy.fill_diagonal(B1, -0.5)\n",
      "\n",
      "    for i, p_i in enumerate(panels):\n",
      "        for j, p_j in enumerate(panels):                \n",
      "            if i != j:\n",
      "                B1[i,j] = 0.5/numpy.pi*(integral(p_i.xc, p_i.yc, p_j,-numpy.cos(p_i.beta), -numpy.sin(p_i.beta)))\n",
      "                         \n",
      "    return B1\n"
     ],
     "language": "python",
     "metadata": {},
     "outputs": [],
     "prompt_number": 21
    },
    {
     "cell_type": "code",
     "collapsed": false,
     "input": [
      "def coeff_2_tangential(panels):\n",
      "    \"\"\"\n",
      "    Build matrix coefficients associated with the first\n",
      "    integral in U_t ---> (B_2)\n",
      "    \"\"\"\n",
      "    N = len(panels)\n",
      "    B2 = numpy.empty((N, N), dtype=float)          \n",
      "    numpy.fill_diagonal(B2, -0.25)\n",
      "\n",
      "    for i, p_i in enumerate(panels):\n",
      "        for j, p_j in enumerate(panels):                \n",
      "            if i != j:\n",
      "                B2[i,j] = 0.5/numpy.pi*(1./p_j.length)*(integral_s(p_i.xc, p_i.yc, p_j,-numpy.cos(p_i.beta), -numpy.sin(p_i.beta)))\n",
      "                        \n",
      "    return B2"
     ],
     "language": "python",
     "metadata": {},
     "outputs": [],
     "prompt_number": 22
    },
    {
     "cell_type": "code",
     "collapsed": false,
     "input": [
      "def coeff_3_tangential(panels, B2):\n",
      "    \"\"\"\n",
      "    Build matrix coefficients associated with the first\n",
      "    integral in U_t ---> (B_3)\n",
      "    \"\"\"\n",
      "    N = len(panels)\n",
      "    B3 = B2\n",
      "                         \n",
      "    return B3"
     ],
     "language": "python",
     "metadata": {},
     "outputs": [],
     "prompt_number": 23
    },
    {
     "cell_type": "code",
     "collapsed": false,
     "input": [
      "#Let's call this functions to get B1,B2,B3.\n",
      "B1 = coeff_1_tangential(panels)\n",
      "B2 = coeff_2_tangential(panels)\n",
      "B3 = coeff_3_tangential(panels,B2)"
     ],
     "language": "python",
     "metadata": {},
     "outputs": [],
     "prompt_number": 24
    },
    {
     "cell_type": "markdown",
     "metadata": {},
     "source": [
      "Using the same logic we used to build the **A** matrix, excepting that now we don't need the kutta condition, we can get the **A_tangential**."
     ]
    },
    {
     "cell_type": "code",
     "collapsed": false,
     "input": [
      "def A_tangential(panels,B1,B2,B3):\n",
      "    \"\"\"\n",
      "    \"\"\"\n",
      "    N = len(panels)\n",
      "    A_t = numpy.zeros((N, N+1), dtype=float) \n",
      "    \n",
      "    for i in range(N):\n",
      "        \n",
      "        A_t[i,0] = B1[i,0] - B2[i,0]\n",
      "        A_t[i,-1] = B3[i,-1]\n",
      "        \n",
      "        for j in range(N-1):\n",
      "            \n",
      "            A_t[i,j+1] = B1[i,j+1] - B2[i,j+1] + B3[i,j]\n",
      "    \n",
      "    return A_t"
     ],
     "language": "python",
     "metadata": {},
     "outputs": [],
     "prompt_number": 25
    },
    {
     "cell_type": "code",
     "collapsed": false,
     "input": [
      "A_t = A_tangential(panels,B1,B2,B3)"
     ],
     "language": "python",
     "metadata": {},
     "outputs": [],
     "prompt_number": 26
    },
    {
     "cell_type": "code",
     "collapsed": false,
     "input": [
      "#The vector associated with the free-stream for U_t\n",
      "\n",
      "b_t = freestream.U_inf * numpy.sin([freestream.alpha - panel.beta for panel in panels])\n"
     ],
     "language": "python",
     "metadata": {},
     "outputs": [],
     "prompt_number": 27
    },
    {
     "cell_type": "markdown",
     "metadata": {},
     "source": [
      "###The tangential velocity:"
     ]
    },
    {
     "cell_type": "code",
     "collapsed": false,
     "input": [
      " U_t = numpy.dot(A_t, gammas) + b_t"
     ],
     "language": "python",
     "metadata": {},
     "outputs": [],
     "prompt_number": 28
    },
    {
     "cell_type": "code",
     "collapsed": false,
     "input": [
      "for i, panel in enumerate(panels):\n",
      "        panel.vt = U_t[i]"
     ],
     "language": "python",
     "metadata": {},
     "outputs": [],
     "prompt_number": 29
    },
    {
     "cell_type": "markdown",
     "metadata": {},
     "source": [
      "###Pressure coefficient:"
     ]
    },
    {
     "cell_type": "code",
     "collapsed": false,
     "input": [
      "def get_pressure_coefficient(panels, freestream):\n",
      "    \"\"\"Computes the surface pressure coefficients.\n",
      "    \n",
      "    Arguments\n",
      "    ---------\n",
      "    panels: array of panels.\n",
      "    freestream: farfield conditions.\n",
      "    \"\"\"\n",
      "    for panel in panels:\n",
      "        panel.cp = 1.0 - (panel.vt/freestream.U_inf)**2"
     ],
     "language": "python",
     "metadata": {},
     "outputs": [],
     "prompt_number": 30
    },
    {
     "cell_type": "code",
     "collapsed": false,
     "input": [
      "get_pressure_coefficient(panels, freestream)"
     ],
     "language": "python",
     "metadata": {},
     "outputs": [],
     "prompt_number": 31
    },
    {
     "cell_type": "markdown",
     "metadata": {},
     "source": [
      "From [Lesson 10](http://nbviewer.ipython.org/github/barbagroup/AeroPython/blob/master/lessons/10_Lesson10_sourcePanelMethod.ipynb) we kow the exact solution for zero angle of attack, so let copy that solution, to compare with our result."
     ]
    },
    {
     "cell_type": "code",
     "collapsed": false,
     "input": [
      "voverVsquared=numpy.array([0, 0.64, 1.01, 1.241, 1.378, 1.402, 1.411, 1.411, 1.399, 1.378, 1.35, 1.288, 1.228, 1.166, 1.109, 1.044, 0.956, 0.906, 0])\n",
      "print voverVsquared"
     ],
     "language": "python",
     "metadata": {},
     "outputs": [
      {
       "output_type": "stream",
       "stream": "stdout",
       "text": [
        "[ 0.     0.64   1.01   1.241  1.378  1.402  1.411  1.411  1.399  1.378\n",
        "  1.35   1.288  1.228  1.166  1.109  1.044  0.956  0.906  0.   ]\n"
       ]
      }
     ],
     "prompt_number": 32
    },
    {
     "cell_type": "code",
     "collapsed": false,
     "input": [
      "xtheo=numpy.array([0, 0.5, 1.25, 2.5, 5.0, 7.5, 10, 15, 20, 25, 30, 40, 50, 60, 70, 80, 90, 95, 100])\n",
      "xtheo = xtheo/100\n",
      "print xtheo"
     ],
     "language": "python",
     "metadata": {},
     "outputs": [
      {
       "output_type": "stream",
       "stream": "stdout",
       "text": [
        "[ 0.      0.005   0.0125  0.025   0.05    0.075   0.1     0.15    0.2     0.25\n",
        "  0.3     0.4     0.5     0.6     0.7     0.8     0.9     0.95    1.    ]\n"
       ]
      }
     ],
     "prompt_number": 33
    },
    {
     "cell_type": "code",
     "collapsed": false,
     "input": [
      "# plots the surface pressure coefficient\n",
      "\n",
      "val_x, val_y = 0.1, 0.2\n",
      "x_min, x_max = min( panel.xa for panel in panels ), max( panel.xa for panel in panels )\n",
      "cp_min, cp_max = min( panel.cp for panel in panels ), max( panel.cp for panel in panels )\n",
      "x_start, x_end = x_min-val_x*(x_max-x_min), x_max+val_x*(x_max-x_min)\n",
      "y_start, y_end = cp_min-val_y*(cp_max-cp_min), cp_max+val_y*(cp_max-cp_min)\n",
      "\n",
      "pyplot.figure(figsize=(10, 6))\n",
      "pyplot.grid(True)\n",
      "pyplot.xlabel('x', fontsize=16)\n",
      "pyplot.ylabel('$C_p$', fontsize=16)\n",
      "pyplot.plot([panel.xc for panel in panels if panel.loc == 'upper face'], \n",
      "         [panel.cp for panel in panels if panel.loc == 'upper face'], \n",
      "         color='r', linewidth=1, marker='x', markersize=8)\n",
      "pyplot.plot([panel.xc for panel in panels if panel.loc == 'lower face'], \n",
      "         [panel.cp for panel in panels if panel.loc == 'lower face'], \n",
      "         color='b', linewidth=0, marker='d', markersize=6)\n",
      "pyplot.plot(xtheo, 1-voverVsquared, color='k', linestyle='--',linewidth=2)\n",
      "pyplot.legend(['upper face', 'lower face', 'analytical'], loc='best', prop={'size':14})\n",
      "pyplot.xlim(x_start, x_end)\n",
      "pyplot.ylim(-0.65, 1.)\n",
      "pyplot.gca().invert_yaxis()\n",
      "pyplot.title('Number of panels : %d' % N);"
     ],
     "language": "python",
     "metadata": {},
     "outputs": [
      {
       "metadata": {},
       "output_type": "display_data",
       "png": "[encoded data removed]",
       "text": [
        "<matplotlib.figure.Figure at 0x7fc5bac01750>"
       ]
      }
     ],
     "prompt_number": 34
    },
    {
     "cell_type": "markdown",
     "metadata": {},
     "source": [
      "Nice!! our solution match with the theoretical one. However the purpouse of use vortices as our singularities is to get some lift and see how our model behaves. So let's calculate solve the problem for an angle of attack $\\alpha=10$ degrees. We pick $10\u00b0$ because we have some experimental data for the coefficient of pressure of the upper face, to compare. [Gregory & O'Reilly pressure data.](http://turbmodels.larc.nasa.gov/naca0012_val.html)"
     ]
    },
    {
     "cell_type": "markdown",
     "metadata": {},
     "source": [
      "##Let's solve for $\\alpha=10\u00b0$"
     ]
    },
    {
     "cell_type": "code",
     "collapsed": false,
     "input": [
      "# defines and creates the object freestream\n",
      "U_inf = 1.0                                # freestream speed\n",
      "alpha = 10.0                                # angle of attack (in degrees)\n",
      "freestream_10 = Freestream(U_inf, alpha)      # instantiation of the object freestream"
     ],
     "language": "python",
     "metadata": {},
     "outputs": [],
     "prompt_number": 35
    },
    {
     "cell_type": "code",
     "collapsed": false,
     "input": [
      "#We need to recalculate the RHS\n",
      "\n",
      "b_10 = build_rhs(panels, freestream_10)"
     ],
     "language": "python",
     "metadata": {},
     "outputs": [],
     "prompt_number": 36
    },
    {
     "cell_type": "code",
     "collapsed": false,
     "input": [
      "# solves the linear system\n",
      "gammas_10 = linalg.solve(A, b_10)"
     ],
     "language": "python",
     "metadata": {},
     "outputs": [],
     "prompt_number": 37
    },
    {
     "cell_type": "code",
     "collapsed": false,
     "input": [
      "#The vector associated with the free-stream for U_t\n",
      "\n",
      "b_t_10 = freestream.U_inf * numpy.sin([freestream_10.alpha - panel.beta for panel in panels])\n"
     ],
     "language": "python",
     "metadata": {},
     "outputs": [],
     "prompt_number": 38
    },
    {
     "cell_type": "code",
     "collapsed": false,
     "input": [
      "#Getting the tangential velocity\n",
      "U_t_10 = numpy.dot(A_t, gammas_10) + b_t_10"
     ],
     "language": "python",
     "metadata": {},
     "outputs": [],
     "prompt_number": 39
    },
    {
     "cell_type": "code",
     "collapsed": false,
     "input": [
      "for i, panel in enumerate(panels):\n",
      "        panel.vt = U_t_10[i]"
     ],
     "language": "python",
     "metadata": {},
     "outputs": [],
     "prompt_number": 40
    },
    {
     "cell_type": "code",
     "collapsed": false,
     "input": [
      "get_pressure_coefficient(panels, freestream_10)"
     ],
     "language": "python",
     "metadata": {},
     "outputs": [],
     "prompt_number": 41
    },
    {
     "cell_type": "markdown",
     "metadata": {},
     "source": [
      "As we mention before we have some experimental data for the upper face, so let's import that data to compare with our results.  "
     ]
    },
    {
     "cell_type": "code",
     "collapsed": false,
     "input": [
      "x_exp , Cp_exp = numpy.loadtxt('./resources/CP_Gregory_expdata_alpha_10.dat', dtype=float, delimiter=' ', unpack=True)\n"
     ],
     "language": "python",
     "metadata": {},
     "outputs": [],
     "prompt_number": 42
    },
    {
     "cell_type": "code",
     "collapsed": false,
     "input": [
      "# plots the surface pressure coefficient\n",
      "\n",
      "val_x, val_y = 0.1, 0.2\n",
      "x_min, x_max = min( panel.xa for panel in panels ), max( panel.xa for panel in panels )\n",
      "cp_min, cp_max = min( panel.cp for panel in panels ), max( panel.cp for panel in panels )\n",
      "x_start, x_end = x_min-val_x*(x_max-x_min), x_max+val_x*(x_max-x_min)\n",
      "y_start, y_end = cp_min-val_y*(cp_max-cp_min), cp_max+val_y*(cp_max-cp_min)\n",
      "\n",
      "pyplot.figure(figsize=(10, 6))\n",
      "pyplot.grid(True)\n",
      "pyplot.xlabel('x', fontsize=16)\n",
      "pyplot.ylabel('$C_p$', fontsize=16)\n",
      "pyplot.plot([panel.xc for panel in panels if panel.loc == 'upper face'], \n",
      "         [panel.cp for panel in panels if panel.loc == 'upper face'], \n",
      "         color='r', linewidth=1, marker='d', markersize=6)\n",
      "pyplot.plot([panel.xc for panel in panels if panel.loc == 'lower face'], \n",
      "         [panel.cp for panel in panels if panel.loc == 'lower face'], \n",
      "         color='b', linewidth=1, marker='d', markersize=6)\n",
      "\n",
      "pyplot.plot(x_exp,Cp_exp,color='g', linewidth=0, marker='D', markersize=8, markeredgecolor='g',\n",
      "markerfacecolor='None', markeredgewidth=1.5)\n",
      "\n",
      "pyplot.legend(['upper face', 'lower face', 'Gregory exp_data (upper face)'], loc='best', prop={'size':14})\n",
      "pyplot.xlim(x_start, x_end)\n",
      "pyplot.ylim(y_start, y_end)\n",
      "pyplot.gca().invert_yaxis()\n",
      "pyplot.title('Number of panels : %d' % N);"
     ],
     "language": "python",
     "metadata": {},
     "outputs": [
      {
       "metadata": {},
       "output_type": "display_data",
       "png": "[encoded data removed]",
       "text": [
        "<matplotlib.figure.Figure at 0x7fc5c03c9610>"
       ]
      }
     ],
     "prompt_number": 43
    },
    {
     "cell_type": "markdown",
     "metadata": {},
     "source": [
      "Great!! Our results seem to match the experimental data. What we can do is calculate the lift coefficient and compare it with the experimental value. Morover, we can see how the error behaves for different number of panels. "
     ]
    },
    {
     "cell_type": "markdown",
     "metadata": {},
     "source": [
      "Let's define a function to calculate the lift for different angles of attack:"
     ]
    },
    {
     "cell_type": "code",
     "collapsed": false,
     "input": [
      "def get_lift(freestream, Np):\n",
      "    \"\"\"\n",
      "    Get the lift coefficient for a number of panels Np\n",
      "    \"\"\"\n",
      "    #define panels\n",
      "    panels = define_panels(Np)\n",
      "    \n",
      "    #coefficients to build A\n",
      "    A1 = coeff_1_normal(panels)\n",
      "    A2 = coeff_2_normal(panels)\n",
      "    A3 = coeff_3_normal(panels,A2)\n",
      "    \n",
      "    #To build A\n",
      "    A_n =A_normal(panels,A1,A2,A3)\n",
      "    k_a = kutta_array(Np)\n",
      "\n",
      "    #Putting all together to get A\n",
      "    A = build_matrix(A_n, k_a, Np)\n",
      "\n",
      "    #RHS\n",
      "    b = build_rhs(panels, freestream)\n",
      "\n",
      "    # solves the linear system\n",
      "    gammas = linalg.solve(A, b)\n",
      "    \n",
      "    #Coefficients to get A_tangential.\n",
      "    B1 = coeff_1_tangential(panels)\n",
      "    B2 = coeff_2_tangential(panels)\n",
      "    B3 = coeff_3_tangential(panels,B2)\n",
      "    \n",
      "    #A_tangential\n",
      "    A_t = A_tangential(panels,B1,B2,B3)\n",
      "    \n",
      "    #The vector associated with the free-stream for U_t\n",
      "    b_t = freestream.U_inf * numpy.sin([freestream.alpha - panel.beta for panel in panels])\n",
      "\n",
      "    #Get tangential velocity\n",
      "    U_t = numpy.dot(A_t, gammas) + b_t\n",
      "    \n",
      "    for i, panel in enumerate(panels):\n",
      "        panel.vt = U_t[i]\n",
      "    \n",
      "    #Get Cp\n",
      "    get_pressure_coefficient(panels, freestream)\n",
      "    \n",
      "    L = 0.\n",
      "    for panel in panels:\n",
      "        L -= panel.cp*panel.length*numpy.sin(panel.beta)\n",
      "    \n",
      "    return L"
     ],
     "language": "python",
     "metadata": {},
     "outputs": [],
     "prompt_number": 44
    },
    {
     "cell_type": "markdown",
     "metadata": {},
     "source": [
      "We can calculate the value of the lift coefficients for different number of panels and compare it with the value of the experimental data.\n",
      "\n",
      "The value of the experimental lift for $\\alpha = 10\u00b0$ was obtain from  reference [4](https://confluence.cornell.edu/display/SIMULATION/Flow+over+an+Airfoil+-+Exercises),\n",
      "\n",
      "$$ L_{exp} = 1.2219 $$\n",
      "\n",
      "with this value as a reference we can plot de relative error as a function of the number of panels $N_p$ and see how our model behaves."
     ]
    },
    {
     "cell_type": "code",
     "collapsed": false,
     "input": [
      "L_np=[]\n",
      "Np_list=[20,40,60,80,100,120,140,160,180,200, 400]\n",
      "for i in Np_list:\n",
      "    L_np.append(get_lift(freestream_10, i))"
     ],
     "language": "python",
     "metadata": {},
     "outputs": [],
     "prompt_number": 45
    },
    {
     "cell_type": "code",
     "collapsed": false,
     "input": [
      "L_exp = 1.2219\n",
      "\n",
      "#Relative error\n",
      "\n",
      "rel_err = []\n",
      "for i in L_np:\n",
      "    rel_err.append(numpy.abs(L_exp - i)/L_exp)\n",
      "\n",
      "#Percentage error\n",
      "\n",
      "per_err = []\n",
      "for i in rel_err:\n",
      "    per_err.append(100.*i)\n"
     ],
     "language": "python",
     "metadata": {},
     "outputs": [],
     "prompt_number": 47
    },
    {
     "cell_type": "code",
     "collapsed": false,
     "input": [
      "#Plotting\n",
      "pyplot.figure(figsize=(10, 6))\n",
      "pyplot.grid(True)\n",
      "pyplot.xlabel('Np', fontsize=16)\n",
      "pyplot.ylabel('error $\\%$', fontsize=16)\n",
      "pyplot.xlim(10, 210)\n",
      "pyplot.ylim(3, 8)\n",
      "pyplot.xticks(numpy.linspace(10, 210, 21)) \n",
      "pyplot.yticks(numpy.linspace(2, 8, 17))\n",
      "\n",
      "pyplot.title('Percentage error vs number of panels', fontsize=20)\n",
      "\n",
      "pyplot.plot(Np_list, per_err,color='r', linewidth=0, marker='o', markersize=6);"
     ],
     "language": "python",
     "metadata": {},
     "outputs": [
      {
       "metadata": {},
       "output_type": "display_data",
       "png": "[encoded data removed]",
       "text": [
        "<matplotlib.figure.Figure at 0x7fc5ba83a310>"
       ]
      }
     ],
     "prompt_number": 50
    },
    {
     "cell_type": "code",
     "collapsed": false,
     "input": [
      "#For Np=400 the precentage error is:\n",
      "L_400 = per_err[-1]\n",
      "\n",
      "print ('L_400 = %.4f' %L_400)"
     ],
     "language": "python",
     "metadata": {},
     "outputs": [
      {
       "output_type": "stream",
       "stream": "stdout",
       "text": [
        "L_400 = 3.3855\n"
       ]
      }
     ],
     "prompt_number": 51
    },
    {
     "cell_type": "markdown",
     "metadata": {},
     "source": [
      "As we expected, when the number of panels increases, the percentage error decreases. For $Np >60$ the percentage error is less than $5\\%$ what is an acceptable value. As $Np$ keeps increasing, the error continues decreasing but slowly. For $Np=400$ the error is around $3.4\\%$, which is close to the value for $Np=200$ ($\\approx 3.5\\%$). Then, it is not worthy to solve for all this panels if we can get a similar performance for a smaller $Np$."
     ]
    },
    {
     "cell_type": "heading",
     "level": 5,
     "metadata": {},
     "source": [
      "Challange task"
     ]
    },
    {
     "cell_type": "markdown",
     "metadata": {},
     "source": [
      "Try to do the same analysis we did in the last section, for the vortex-source panel method from [Lesson 11](http://nbviewer.ipython.org/github/barbagroup/AeroPython/blob/master/lessons/11_Lesson11_vortexSourcePanelMethod.ipynb) and compare the results."
     ]
    },
    {
     "cell_type": "markdown",
     "metadata": {},
     "source": [
      "##References"
     ]
    },
    {
     "cell_type": "markdown",
     "metadata": {},
     "source": [
      "1. Katz, J. & Plotkin, A. _Low speed aerodynamics. 1947-Second Edition \n",
      "2. http://en.wikipedia.org/wiki/NACA_airfoil\n",
      "3. http://turbmodels.larc.nasa.gov/naca0012_val.html\n",
      "4. https://confluence.cornell.edu/display/SIMULATION/Flow+over+an+Airfoil+-+Exercises\n"
     ]
    },
    {
     "cell_type": "heading",
     "level": 6,
     "metadata": {},
     "source": [
      "Please ignore the cell below. It just loads our style for the notebook."
     ]
    },
    {
     "cell_type": "code",
     "collapsed": false,
     "input": [
      "from IPython.core.display import HTML\n",
      "def css_styling():\n",
      "    styles = open('./styles/custom.css', 'r').read()\n",
      "    return HTML(styles)\n",
      "css_styling()"
     ],
     "language": "python",
     "metadata": {},
     "outputs": [
      {
       "html": [
        "<link href='http://fonts.googleapis.com/css?family=Fenix' rel='stylesheet' type='text/css'>\n",
        "<link href='http://fonts.googleapis.com/css?family=Alegreya+Sans:100,300,400,500,700,800,900,100italic,300italic,400italic,500italic,700italic,800italic,900italic' rel='stylesheet' type='text/css'>\n",
        "<link href='http://fonts.googleapis.com/css?family=Source+Code+Pro:300,400' rel='stylesheet' type='text/css'>\n",
        "<style>\n",
        "\n",
        "@font-face {\n",
        "    font-family: \"Computer Modern\";\n",
        "    src: url('http://mirrors.ctan.org/fonts/cm-unicode/fonts/otf/cmunss.otf');\n",
        "}\n",
        "\n",
        "\n",
        "#notebook_panel { /* main background */\n",
        "    background: rgb(245,245,245);\n",
        "}\n",
        "\n",
        "div.cell { /* set cell width */\n",
        "    width: 750px;\n",
        "}\n",
        "\n",
        "div #notebook { /* centre the content */\n",
        "    background: #fff; /* white background for content */\n",
        "    width: 1000px;\n",
        "    margin: auto;\n",
        "    padding-left: 0em;\n",
        "}\n",
        "\n",
        "#notebook li { /* More space between bullet points */\n",
        "margin-top:0.8em;\n",
        "}\n",
        "\n",
        "/* draw border around running cells */\n",
        "div.cell.border-box-sizing.code_cell.running { \n",
        "    border: 1px solid #111;\n",
        "}\n",
        "\n",
        "/* Put a solid color box around each cell and its output, visually linking them*/\n",
        "div.cell.code_cell {\n",
        "    background-color: rgb(256,256,256); \n",
        "    border-radius: 0px; \n",
        "    padding: 0.5em;\n",
        "    margin-left:1em;\n",
        "    margin-top: 1em;\n",
        "}\n",
        "\n",
        "\n",
        "div.text_cell_render{\n",
        "    font-family: 'Alegreya Sans' sans-serif;\n",
        "    line-height: 140%;\n",
        "    font-size: 125%;\n",
        "    font-weight: 400;\n",
        "    width:600px;\n",
        "    margin-left:auto;\n",
        "    margin-right:auto;\n",
        "}\n",
        "\n",
        "/* Formatting for header cells */\n",
        ".text_cell_render h1 {\n",
        "    font-family: 'Alegreya Sans', sans-serif;\n",
        "    font-style:regular;\n",
        "    font-weight: 200;    \n",
        "    font-size: 50pt;\n",
        "    line-height: 100%;\n",
        "    color:#CD2305;\n",
        "    margin-bottom: 0.5em;\n",
        "    margin-top: 0.5em;\n",
        "    display: block;\n",
        "}\t\n",
        ".text_cell_render h2 {\n",
        "    font-family: 'Fenix', serif;\n",
        "    font-size: 22pt;\n",
        "    line-height: 100%;\n",
        "    margin-bottom: 0.1em;\n",
        "    margin-top: 0.3em;\n",
        "    display: block;\n",
        "}\t\n",
        "\n",
        ".text_cell_render h3 {\n",
        "    font-family: 'Fenix', serif;\n",
        "    margin-top:12px;\n",
        "\tfont-size: 16pt;\n",
        "    margin-bottom: 3px;\n",
        "    font-style: regular;\n",
        "}\n",
        "\n",
        ".text_cell_render h4 {    /*Use this for captions*/\n",
        "    font-family: 'Fenix', serif;\n",
        "    font-size: 2pt;\n",
        "    text-align: center;\n",
        "    margin-top: 0em;\n",
        "    margin-bottom: 2em;\n",
        "    font-style: regular;\n",
        "}\n",
        "\n",
        ".text_cell_render h5 {  /*Use this for small titles*/\n",
        "    font-family: 'Alegreya Sans', sans-serif;\n",
        "    font-weight: 300;\n",
        "    font-size: 16pt;\n",
        "    color: #CD2305;\n",
        "    font-style: italic;\n",
        "    margin-bottom: .5em;\n",
        "    margin-top: 0.5em;\n",
        "    display: block;\n",
        "}\n",
        "\n",
        ".text_cell_render h6 { /*use this for copyright note*/\n",
        "    font-family: 'Source Code Pro', sans-serif;\n",
        "    font-weight: 300;\n",
        "    font-size: 9pt;\n",
        "    line-height: 100%;\n",
        "    color: grey;\n",
        "    margin-bottom: 1px;\n",
        "    margin-top: 1px;\n",
        "}\n",
        "\n",
        "    .CodeMirror{\n",
        "            font-family: \"Source Code Pro\";\n",
        "\t\t\tfont-size: 90%;\n",
        "    }\n",
        "/*    .prompt{\n",
        "        display: None;\n",
        "    }*/\n",
        "\t\n",
        "    \n",
        "    .warning{\n",
        "        color: rgb( 240, 20, 20 )\n",
        "        }  \n",
        "</style>\n",
        "<script>\n",
        "    MathJax.Hub.Config({\n",
        "                        TeX: {\n",
        "                           extensions: [\"AMSmath.js\"], \n",
        "                           equationNumbers: { autoNumber: \"AMS\", useLabelIds: true}\n",
        "                           },\n",
        "                tex2jax: {\n",
        "                    inlineMath: [ ['$','$'], [\"\\\\(\",\"\\\\)\"] ],\n",
        "                    displayMath: [ ['$$','$$'], [\"\\\\[\",\"\\\\]\"] ]\n",
        "                },\n",
        "                displayAlign: 'center', // Change this to 'center' to center equations.\n",
        "                \"HTML-CSS\": {\n",
        "                    styles: {'.MathJax_Display': {\"margin\": 4}}\n",
        "                }\n",
        "        });\n",
        "</script>\n"
       ],
       "metadata": {},
       "output_type": "pyout",
       "prompt_number": 54,
       "text": [
        "<IPython.core.display.HTML at 0x7fc5ba996f10>"
       ]
      }
     ],
     "prompt_number": 54
    },
    {
     "cell_type": "code",
     "collapsed": false,
     "input": [],
     "language": "python",
     "metadata": {},
     "outputs": []
    }
   ],
   "metadata": {}
  }
 ]
}